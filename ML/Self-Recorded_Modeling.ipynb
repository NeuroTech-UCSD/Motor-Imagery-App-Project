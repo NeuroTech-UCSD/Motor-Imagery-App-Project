{
 "cells": [
  {
   "cell_type": "code",
   "execution_count": 1,
   "metadata": {},
   "outputs": [],
   "source": [
    "from data_processing_helper import * \n",
    "import warnings\n",
    "warnings.filterwarnings('ignore')\n",
    "\n",
    "# Import time-frequency functions\n",
    "from neurodsp.timefrequency import amp_by_time, freq_by_time, phase_by_time\n",
    "from neurodsp.plts.time_series import plot_time_series, plot_instantaneous_measure\n"
   ]
  },
  {
   "cell_type": "code",
   "execution_count": 2,
   "metadata": {},
   "outputs": [],
   "source": [
    "from sklearn.discriminant_analysis import LinearDiscriminantAnalysis\n",
    "from sklearn.ensemble import RandomForestClassifier\n",
    "from sklearn.svm import SVC\n",
    "from sklearn.naive_bayes import GaussianNB\n",
    "from sklearn.linear_model import LogisticRegression\n",
    "from sklearn.linear_model import Lasso\n",
    "\n",
    "from sklearn.preprocessing import StandardScaler\n",
    "from sklearn.model_selection import LeaveOneOut\n",
    "\n",
    "from sklearn.metrics import classification_report\n",
    "from sklearn.metrics import cohen_kappa_score\n",
    "\n",
    "from sklearn.metrics import accuracy_score"
   ]
  },
  {
   "cell_type": "markdown",
   "metadata": {},
   "source": [
    "## Specific helper functions"
   ]
  },
  {
   "cell_type": "code",
   "execution_count": 3,
   "metadata": {},
   "outputs": [],
   "source": [
    "def getOutputLabelsAndEpochTimes(event_df):\n",
    "    # Generates the ordered list of output labels and epoch time pairs\n",
    "    # Input: event_df -- the event dataframe from the csv file\n",
    "    # Output: \n",
    "    #    output_labels -- [1, 2, 4, 3, etc] where the integers correspond to the trial type encoded\n",
    "    #    epoch_times -- [[<timestamp of start>, <timestamp of end>], [<timestamp of start>, <timestamp of end>], etc]\n",
    "    \n",
    "    output_labels = []\n",
    "    epoch_times = []\n",
    "    current_epoch = []\n",
    "    for index, row in event_df.iterrows():\n",
    "        event_info = row['EventStart'].split(\"_\")\n",
    "        if event_info[0] == 'start': \n",
    "            output_labels.append(int(event_info[1]))\n",
    "            current_epoch.append(row['time'])\n",
    "        else :\n",
    "            current_epoch.append(row['time'])\n",
    "            epoch_times.append(list(current_epoch))\n",
    "            current_epoch = []\n",
    "    return np.array(output_labels), np.array(epoch_times)"
   ]
  },
  {
   "cell_type": "code",
   "execution_count": 4,
   "metadata": {},
   "outputs": [],
   "source": [
    "def getEEGEpochs(epoch_times, eeg_df, target_num_trials=1000):\n",
    "    # Slices and generates the epochs in the eeg_df given the epoch_times\n",
    "    # Input: \n",
    "    #    epoch_times: [[<timestamp of start>, <timestamp of end>], [<timestamp of start>, <timestamp of end>], etc]\n",
    "    #    eeg_df: dataframe from csv file\n",
    "    # Output: \n",
    "    #    a numpy array containing eeg_epochs (#epoch, #chans, #timepoints)\n",
    "    eeg_epochs = []\n",
    "    for epoch_time in epoch_times: \n",
    "        baseline_df = eeg_df[(eeg_df['time'] > (epoch_time[0] - 1.5)) & (eeg_df['time'] < ((epoch_time[0])))]\n",
    "        baseline_df = baseline_df.drop(columns=['time'])\n",
    "        baselines = np.mean(baseline_df[eeg_chans].values, 0)\n",
    "        sub_df = eeg_df[(eeg_df['time'] > epoch_time[0]) & (eeg_df['time'] < epoch_time[1])]\n",
    "        sub_df = sub_df.drop(columns=['time'])\n",
    "        sub_df = sub_df - baselines\n",
    "        num_above = len(sub_df) - target_num_trials\n",
    "        if num_above >= 0:\n",
    "            epoch = np.array(sub_df.values[num_above // 2: len(sub_df) - num_above // 2])[:1000]\n",
    "            eeg_epochs.append(epoch.T)\n",
    "            if len(epoch) != 1000:\n",
    "                print(\"Warning: Potential off by 1 error. Found trail with != 1000 samples:\", len(epoch))\n",
    "        else: \n",
    "            print(\"Warning: Epoch with less than\", target_num_trials, \"eeg samples\")\n",
    "    return np.array(eeg_epochs)\n"
   ]
  },
  {
   "cell_type": "code",
   "execution_count": 5,
   "metadata": {},
   "outputs": [],
   "source": [
    "import pyeeg\n",
    "def getPowerRatio(eeg_data, binning, eeg_fs=250):\n",
    "    power, power_ratio = pyeeg.bin_power(eeg_data, binning, eeg_fs)\n",
    "    return np.array(power)\n",
    "def getIntervals(binning): \n",
    "    intervals = list()\n",
    "    for i, val in enumerate(binning[:-1]): \n",
    "        intervals.append((val, binning[i+1]))\n",
    "    return intervals"
   ]
  },
  {
   "cell_type": "code",
   "execution_count": 6,
   "metadata": {},
   "outputs": [],
   "source": [
    "# Abstract class\n",
    "class myModel:\n",
    "    def __init__(self):\n",
    "        pass\n",
    "    def fit(X, Y):\n",
    "        pass\n",
    "    def predict(X):\n",
    "        pass\n",
    "    def evaluate(X, Y): \n",
    "        pass"
   ]
  },
  {
   "cell_type": "markdown",
   "metadata": {},
   "source": [
    "## Load Data"
   ]
  },
  {
   "cell_type": "code",
   "execution_count": 7,
   "metadata": {},
   "outputs": [],
   "source": [
    "## Loading data without EMG\n",
    "eeg_filename = \"./data/self_recorded/eeg_data 15_motorvis.csv\"\n",
    "event_filename = \"./data/self_recorded/event_data 15_motorvis.csv\"\n",
    "\n",
    "eeg_chans = ['C4','C2', 'C1', 'C3']\n",
    "chans = eeg_chans\n",
    "eeg_df = pd.read_csv(eeg_filename)\n",
    "eeg_df.columns=['time','C4', 'C2', 'C1', 'C3']\n",
    "\n",
    "event_df = pd.read_csv(event_filename)\n",
    "event_df.columns=['time', 'EventStart']\n",
    "event_types = {0:\"eye_close\", 1:\"left\", 2:\"right\", 3:\"foot\", 4:\"idle\"}\n",
    "\n",
    "# Filter the full data\n",
    "filtered_df = eeg_df.copy()\n",
    "for chan in chans:\n",
    "    filtered_df[chan] = filterEEG(filtered_df[chan].values)"
   ]
  },
  {
   "cell_type": "code",
   "execution_count": 8,
   "metadata": {},
   "outputs": [],
   "source": [
    "# ## Loading data with EMG\n",
    "# eeg_filename = \"./data/self_recorded/eeg_data 15_withEMG.csv\"\n",
    "# event_filename = \"./data/self_recorded/event_data 15_withEMG.csv\"\n",
    "\n",
    "# eeg_chans = ['C4','C2', 'C1', 'C3']\n",
    "# chans = ['EMG_R', 'EMG_L', 'VEOG'] + eeg_chans\n",
    "# eeg_df = pd.read_csv(eeg_filename)\n",
    "# eeg_df.columns=['time'] + chans\n",
    "\n",
    "# event_df = pd.read_csv(event_filename)\n",
    "# event_df.columns=['time', 'EventStart']\n",
    "# event_types = {0:\"eye_close\", 1:\"left\", 2:\"right\", 3:\"foot\", 4:\"idle\"}\n",
    "\n",
    "# # Filter the full data\n",
    "# filtered_df = eeg_df.copy()\n",
    "# for chan in chans:\n",
    "#     filtered_df[chan] = filterEEG(filtered_df[chan].values)"
   ]
  },
  {
   "cell_type": "code",
   "execution_count": 9,
   "metadata": {},
   "outputs": [
    {
     "data": {
      "text/html": [
       "<div>\n",
       "<style scoped>\n",
       "    .dataframe tbody tr th:only-of-type {\n",
       "        vertical-align: middle;\n",
       "    }\n",
       "\n",
       "    .dataframe tbody tr th {\n",
       "        vertical-align: top;\n",
       "    }\n",
       "\n",
       "    .dataframe thead th {\n",
       "        text-align: right;\n",
       "    }\n",
       "</style>\n",
       "<table border=\"1\" class=\"dataframe\">\n",
       "  <thead>\n",
       "    <tr style=\"text-align: right;\">\n",
       "      <th></th>\n",
       "      <th>time</th>\n",
       "      <th>C4</th>\n",
       "      <th>C2</th>\n",
       "      <th>C1</th>\n",
       "      <th>C3</th>\n",
       "    </tr>\n",
       "  </thead>\n",
       "  <tbody>\n",
       "    <tr>\n",
       "      <th>0</th>\n",
       "      <td>1.602196e+09</td>\n",
       "      <td>-451.295598</td>\n",
       "      <td>-689.560321</td>\n",
       "      <td>-266.691192</td>\n",
       "      <td>-1062.534000</td>\n",
       "    </tr>\n",
       "    <tr>\n",
       "      <th>1</th>\n",
       "      <td>1.602196e+09</td>\n",
       "      <td>21110.796004</td>\n",
       "      <td>19952.002466</td>\n",
       "      <td>25496.237674</td>\n",
       "      <td>25480.294684</td>\n",
       "    </tr>\n",
       "  </tbody>\n",
       "</table>\n",
       "</div>"
      ],
      "text/plain": [
       "           time            C4            C2            C1            C3\n",
       "0  1.602196e+09   -451.295598   -689.560321   -266.691192  -1062.534000\n",
       "1  1.602196e+09  21110.796004  19952.002466  25496.237674  25480.294684"
      ]
     },
     "execution_count": 9,
     "metadata": {},
     "output_type": "execute_result"
    }
   ],
   "source": [
    "filtered_df.head(2)"
   ]
  },
  {
   "cell_type": "code",
   "execution_count": 10,
   "metadata": {},
   "outputs": [
    {
     "data": {
      "text/html": [
       "<div>\n",
       "<style scoped>\n",
       "    .dataframe tbody tr th:only-of-type {\n",
       "        vertical-align: middle;\n",
       "    }\n",
       "\n",
       "    .dataframe tbody tr th {\n",
       "        vertical-align: top;\n",
       "    }\n",
       "\n",
       "    .dataframe thead th {\n",
       "        text-align: right;\n",
       "    }\n",
       "</style>\n",
       "<table border=\"1\" class=\"dataframe\">\n",
       "  <thead>\n",
       "    <tr style=\"text-align: right;\">\n",
       "      <th></th>\n",
       "      <th>time</th>\n",
       "      <th>EventStart</th>\n",
       "    </tr>\n",
       "  </thead>\n",
       "  <tbody>\n",
       "    <tr>\n",
       "      <th>0</th>\n",
       "      <td>1.602196e+09</td>\n",
       "      <td>start_0</td>\n",
       "    </tr>\n",
       "    <tr>\n",
       "      <th>1</th>\n",
       "      <td>1.602196e+09</td>\n",
       "      <td>end_0</td>\n",
       "    </tr>\n",
       "  </tbody>\n",
       "</table>\n",
       "</div>"
      ],
      "text/plain": [
       "           time EventStart\n",
       "0  1.602196e+09    start_0\n",
       "1  1.602196e+09      end_0"
      ]
     },
     "execution_count": 10,
     "metadata": {},
     "output_type": "execute_result"
    }
   ],
   "source": [
    "event_df.head(2)"
   ]
  },
  {
   "cell_type": "code",
   "execution_count": 11,
   "metadata": {},
   "outputs": [],
   "source": [
    "# Process dfs to get labels, raw eeg epochs, epochs of filtered eeg data, filtered epoch data\n",
    "output_labels, epoch_times = getOutputLabelsAndEpochTimes(event_df)\n",
    "raw_eeg_epochs = getEEGEpochs(epoch_times, eeg_df) # Raw eeg epochs\n",
    "filtered_epochs = getEEGEpochs(epoch_times, filtered_df) # Epoched after filtering\n",
    "epoch_then_filter_epochs = getFilteredEpochs(raw_eeg_epochs) # Filtered after epoching\n",
    "\n",
    "\n",
    "# Create DataFrames\n",
    "raw_eeg_epoch_df = getDF(raw_eeg_epochs, output_labels, epoch_times, chans)\n",
    "filtered_epoch_df = getDF(filtered_epochs, output_labels, epoch_times, chans)\n",
    "filtered_epoch_df.head(20)\n",
    "\n",
    "epoch_then_filter_df = getDF(epoch_then_filter_epochs, output_labels, epoch_times, chans)\n"
   ]
  },
  {
   "cell_type": "markdown",
   "metadata": {},
   "source": [
    "# Power Bin Modeling"
   ]
  },
  {
   "cell_type": "code",
   "execution_count": 12,
   "metadata": {},
   "outputs": [],
   "source": [
    "# Extract trials that are for left vs right hand imagery\n",
    "df_to_use = filtered_epoch_df\n",
    "filtered_epoch_bi_class_df = df_to_use[(df_to_use['event_type'] == 1) | (df_to_use['event_type'] == 2)]\n",
    "X = filtered_epoch_bi_class_df[eeg_chans].values\n",
    "Y = filtered_epoch_bi_class_df['event_type'].values\n",
    "\n",
    "# Split the 4s trials into 2.8s trials. front and end to obtain 2x trials\n",
    "X_split = []\n",
    "Y_split = []\n",
    "for i in range(len(Y)): \n",
    "    eeg_data = []\n",
    "    for j in range(4): \n",
    "        eeg_data.append(X[i, j][:]) # Epoch then filter creates large shifts in voltage near the ends. \n",
    "    X_split.append(np.array(eeg_data))\n",
    "    Y_split.append(Y[i])\n",
    "\n",
    "#     eeg_data_2 = []\n",
    "#     for j in range(4): \n",
    "#         eeg_data_2.append(X[i, j][200:])\n",
    "#     X_split.append(np.array(eeg_data_2))\n",
    "#     Y_split.append(Y[i])\n",
    "\n",
    "# Shuffle\n",
    "X = np.array(X_split)\n",
    "Y = np.array(Y_split)\n",
    "temp=list(zip(Y, X))\n",
    "random.shuffle(temp)\n",
    "Y_shuffled, X_shuffled = zip(*temp)\n",
    "\n",
    "# Split train/test\n",
    "num_train = int(len(X_shuffled)*0.7)\n",
    "X_train = np.array(X_shuffled[:num_train])\n",
    "X_test = np.array(X_shuffled[num_train:])\n",
    "Y_train = np.array(Y_shuffled[:num_train])\n",
    "Y_test = np.array(Y_shuffled[num_train:])\n",
    "X = np.array(X_shuffled)\n",
    "Y = np.array(Y_shuffled)"
   ]
  },
  {
   "cell_type": "code",
   "execution_count": 13,
   "metadata": {},
   "outputs": [],
   "source": [
    "# Power Bin Model (may have other decision algorithms)\n",
    "class PowerBinModel(myModel): # XDAWN Covariance Preprocessing + Linear Regression Classifier\n",
    "    def __init__(self, chans, num_top=5):\n",
    "        super().__init__()\n",
    "        self.mod_types = [LogisticRegression, LinearDiscriminantAnalysis]\n",
    "        self.mod_type = self.mod_types[0] \n",
    "        self.binning = [1, 4, 7, 12, 30] # [1, 3, 5, 7, 9, 12, 20, 40] #\n",
    "        self.intervals = getIntervals(self.binning)\n",
    "        self.model = self.mod_type()\n",
    "        self.scaler = StandardScaler()\n",
    "        self.chans = chans\n",
    "        self.feat_names = [str(ch) + \"_\" + str(ints) for ch in self.chans for ints in self.intervals]\n",
    "        self.feat_names.extend([str(ch) + \"_mobility\" for ch in self.chans])\n",
    "        self.feat_names.extend([str(ch) + \"_complexity\" for ch in self.chans])\n",
    "        self.feat_names.extend(['left_'+ str(interval) for interval in self.intervals])\n",
    "        self.feat_names.extend(['right_'+ str(interval) for interval in self.intervals])\n",
    "        self.feat_names.extend(['left_minus_right_'+ str(interval) for interval in self.intervals])\n",
    "\n",
    "        self.feature_indx = None\n",
    "        self.num_top = num_top\n",
    "        \n",
    "    def getFeatureNames(self):\n",
    "        return self.feat_names\n",
    "        \n",
    "    def _getFeatures(self, eeg_datas) :\n",
    "        feats = []\n",
    "        mobs = []\n",
    "        comps = []\n",
    "        left_powers = {}\n",
    "        right_powers = {}\n",
    "        for i, eeg_data in enumerate(eeg_datas): \n",
    "            ratios = getPowerRatio(eeg_data, self.binning)\n",
    "            \n",
    "            feats.extend(ratios)\n",
    "\n",
    "            mob, comp = pyeeg.hjorth(eeg_data)\n",
    "            mobs.append(mob)\n",
    "            comps.append(comp)\n",
    "            ch = self.chans[i]\n",
    "            for i, interval in enumerate(self.intervals) : \n",
    "                if (interval not in left_powers) or (interval not in right_powers): \n",
    "                    left_powers[interval] = 0\n",
    "                    right_powers[interval] = 0\n",
    "                if int(ch[1]) % 2 == 0: \n",
    "                    right_powers[interval] += ratios[i]\n",
    "                else : \n",
    "                    left_powers[interval] += ratios[i]\n",
    "        feats.extend(mobs)\n",
    "        feats.extend(comps)\n",
    "        left_powers_list = [] \n",
    "        right_powers_list = []\n",
    "        for i, interval in enumerate(self.intervals) : \n",
    "            left_powers_list.append(left_powers[interval])\n",
    "            right_powers_list.append(right_powers[interval])\n",
    "        feats.extend(left_powers_list)\n",
    "        feats.extend(right_powers_list)\n",
    "        feats.extend(np.array(left_powers_list) - np.array(right_powers_list))\n",
    "        \n",
    "        return feats\n",
    "    \n",
    "    def _selectTopFeatures(self, X_features, Y) :\n",
    "        # Get the unique classes of Y to be able to separate the features \n",
    "        unique_Y = np.unique(Y)\n",
    "        X_features_mean = []\n",
    "        X_features_std = []\n",
    "        for un in unique_Y: \n",
    "            X_features_mean.append(np.mean(X_features[Y == un, :], 0))\n",
    "            X_features_std.append(np.std(X_features[Y == un, :], 0) / np.sqrt(len(X_features[Y == un])))\n",
    "        X_features_std_sum = np.sum(X_features_std, 0)\n",
    "        X_features_mean_diff = np.abs(X_features_mean[0] - X_features_mean[1])\n",
    "        X_features_mean_diff = X_features_mean_diff - X_features_std_sum\n",
    "        \n",
    "        # Get the index of the sorted mean difference array\n",
    "        args = np.argsort(X_features_mean_diff)\n",
    "        # Reverse args to largest features are first\n",
    "        args = args[::-1]\n",
    "        feature_indx = args[:self.num_top]\n",
    "        X_features = np.transpose([X_features[:, i] for i in feature_indx])\n",
    "        return X_features, feature_indx\n",
    "\n",
    "    def fit(self, X, Y):\n",
    "        # X shape must be (#Trials, #Chans, #Timepoints)\n",
    "        \n",
    "        # Check which model is the best \n",
    "        max_accs, best_model_idx = self.evaluate(X, Y)\n",
    "        print(\"max accuracy:\", max_accs)\n",
    "        print(\"best model index:\", best_model_idx)\n",
    "        self.mod_type = self.mod_types[best_model_idx]\n",
    "        self.model = self.mod_type()\n",
    "        \n",
    "        X_features = np.array([self._getFeatures(eeg_datas) for eeg_datas in X])\n",
    "        X_features = self.scaler.fit_transform(X_features)\n",
    "        X_features, self.feature_indx = self._selectTopFeatures(X_features, Y)\n",
    "        \n",
    "        self.model.fit(X_features,Y)\n",
    "    \n",
    "    def evaluate(self, X, Y): \n",
    "        unique_Y = np.unique(Y)\n",
    "        loo = LeaveOneOut()\n",
    "        X_features = np.array([self._getFeatures(eeg_datas) for eeg_datas in X])\n",
    "        accs = [] \n",
    "        for mod in self.mod_types: \n",
    "            y_pred = []\n",
    "            y_true = []\n",
    "            for train_ix, test_ix in loo.split(Y):\n",
    "                # split data\n",
    "                X_train_i, X_test_i = X_features[train_ix, :], X_features[test_ix, :]\n",
    "                y_train_i, y_test_i = Y[train_ix], Y[test_ix]\n",
    "\n",
    "                scaler = StandardScaler()\n",
    "                X_train_i = scaler.fit_transform(X_train_i)\n",
    "                X_train_i, feature_indx = self._selectTopFeatures(X_train_i, y_train_i)\n",
    "\n",
    "\n",
    "                # fit model\n",
    "                model = mod()\n",
    "                model.fit(X_train_i, y_train_i)\n",
    "\n",
    "                X_test_i = scaler.transform(X_test_i)\n",
    "                X_test_i = np.transpose([X_test_i[:, i] for i in feature_indx])\n",
    "                \n",
    "\n",
    "                # evaluate model\n",
    "                yhat = model.predict(X_test_i)\n",
    "                # store\n",
    "                y_true.append(y_test_i[0])\n",
    "                y_pred.append(yhat[0])\n",
    "\n",
    "            # calculate accuracy\n",
    "            acc = accuracy_score(y_true, y_pred)\n",
    "            accs.append(acc)\n",
    "        #print(accs)\n",
    "        return max(accs), accs.index(max(accs))\n",
    "        \n",
    "    def predict(self, X):\n",
    "        # X shape must be (#Trials, #Chans, #Timepoints)\n",
    "        X_features = np.array([self._getFeatures(eeg_datas) for eeg_datas in X])\n",
    "        X_features = self.scaler.transform(X_features)\n",
    "        X_features = np.transpose([X_features[:, i] for i in self.feature_indx])\n",
    "        \n",
    "        return self.model.predict(X_features)\n"
   ]
  },
  {
   "cell_type": "code",
   "execution_count": 14,
   "metadata": {},
   "outputs": [
    {
     "name": "stdout",
     "output_type": "stream",
     "text": [
      "max accuracy: 0.8095238095238095\n",
      "best model index: 1\n",
      "num total feats 36\n",
      "num used 11\n",
      "C4_(12, 30)\n",
      "left_minus_right_(4, 7)\n",
      "right_(12, 30)\n",
      "C2_(1, 4)\n",
      "C2_(12, 30)\n",
      "C3_(4, 7)\n",
      "left_(12, 30)\n",
      "C2_complexity\n",
      "C3_(12, 30)\n",
      "left_minus_right_(12, 30)\n",
      "left_minus_right_(1, 4)\n",
      "              precision    recall  f1-score   support\n",
      "\n",
      "           1       0.50      0.60      0.55         5\n",
      "           2       0.33      0.25      0.29         4\n",
      "\n",
      "    accuracy                           0.44         9\n",
      "   macro avg       0.42      0.42      0.42         9\n",
      "weighted avg       0.43      0.44      0.43         9\n",
      "\n",
      "Accuracy: 0.4444444444444444\n"
     ]
    }
   ],
   "source": [
    "# Accuracy on the shuffled train and test split\n",
    "num_feats_used = 11\n",
    "power_bin_model = PowerBinModel(eeg_chans, num_top=num_feats_used)\n",
    "\n",
    "power_bin_model.fit(X_train, Y_train)\n",
    "all_feats = power_bin_model.getFeatureNames()\n",
    "num_feats = len(all_feats)\n",
    "print(\"num total feats\", num_feats)\n",
    "print(\"num used\", num_feats_used)\n",
    "for i in power_bin_model.feature_indx: \n",
    "    print(all_feats[i])\n",
    "\n",
    "Y_pred = power_bin_model.predict(X_test)\n",
    "print(classification_report(Y_test, Y_pred))\n",
    "print(\"Accuracy:\", sum(Y_test==Y_pred) / len(Y_test))"
   ]
  },
  {
   "cell_type": "code",
   "execution_count": 15,
   "metadata": {},
   "outputs": [
    {
     "name": "stdout",
     "output_type": "stream",
     "text": [
      "max accuracy: 0.6\n",
      "best model index: 0\n",
      "C2_(1, 4)\n",
      "C2_complexity\n",
      "C2_(12, 30)\n",
      "left_minus_right_(4, 7)\n",
      "left_minus_right_(1, 4)\n",
      "right_(12, 30)\n",
      "right_(1, 4)\n",
      "C3_(12, 30)\n",
      "C2_mobility\n",
      "C4_(12, 30)\n",
      "C3_(4, 7)\n",
      "C4_complexity\n",
      "C1_complexity\n",
      "C4_mobility\n",
      "C4_(1, 4)\n",
      "left_(12, 30)\n",
      "C1_mobility\n",
      "C3_(7, 12)\n",
      "left_(1, 4)\n",
      "left_minus_right_(12, 30)\n",
      "C1_(1, 4)\n",
      "right_(4, 7)\n",
      "C4_(4, 7)\n",
      "C3_(1, 4)\n",
      "C3_mobility\n",
      "C3_complexity\n",
      "C2_(7, 12)\n",
      "C2_(4, 7)\n",
      "left_(7, 12)\n",
      "right_(7, 12)\n",
      "left_(4, 7)\n",
      "C1_(4, 7)\n",
      "C1_(12, 30)\n",
      "C1_(7, 12)\n",
      "C4_(7, 12)\n",
      "left_minus_right_(7, 12)\n"
     ]
    }
   ],
   "source": [
    "# Evaluation of model as a function of number of features used. \n",
    "# These accuracies are obtained by training the model on everything except one datapoint and then predicting that datapoint. \n",
    "accs = []\n",
    "indxs = []\n",
    "for i in range(1,num_feats) :\n",
    "    power_bin_model = PowerBinModel(eeg_chans, num_top=i)\n",
    "    acc, inx = power_bin_model.evaluate(X, Y)\n",
    "    accs.append(acc)\n",
    "    indxs.append(inx)\n",
    "\n",
    "power_bin_model = PowerBinModel(eeg_chans, num_top=num_feats)\n",
    "power_bin_model.fit(X, Y)\n",
    "for i in power_bin_model.feature_indx: \n",
    "    print(all_feats[i])\n",
    "\n"
   ]
  },
  {
   "cell_type": "code",
   "execution_count": 16,
   "metadata": {},
   "outputs": [
    {
     "data": {
      "text/plain": [
       "0.6"
      ]
     },
     "execution_count": 16,
     "metadata": {},
     "output_type": "execute_result"
    }
   ],
   "source": [
    "accs[7]"
   ]
  },
  {
   "cell_type": "code",
   "execution_count": 17,
   "metadata": {},
   "outputs": [
    {
     "data": {
      "image/png": "[encoded data removed]",
      "text/plain": [
       "<Figure size 432x288 with 1 Axes>"
      ]
     },
     "metadata": {
      "needs_background": "light"
     },
     "output_type": "display_data"
    },
    {
     "data": {
      "image/png": "[encoded data removed]",
      "text/plain": [
       "<Figure size 432x288 with 1 Axes>"
      ]
     },
     "metadata": {
      "needs_background": "light"
     },
     "output_type": "display_data"
    }
   ],
   "source": [
    "plt.plot(list(range(1,num_feats)), accs)\n",
    "plt.xlabel(\"num features\")\n",
    "plt.ylabel(\"accuracy\")\n",
    "plt.title(\"Number of features used vs accuracy\")\n",
    "plt.show()\n",
    "\n",
    "plt.scatter(list(range(1,num_feats)), indxs)\n",
    "plt.xlabel(\"num features\")\n",
    "plt.ylabel(\"which model won\")\n",
    "plt.title(\"Number of features used vs model chosen\")\n",
    "plt.show()"
   ]
  },
  {
   "cell_type": "markdown",
   "metadata": {},
   "source": [
    "## Brain decode\n",
    "epochs, batch size\n"
   ]
  },
  {
   "cell_type": "code",
   "execution_count": 18,
   "metadata": {},
   "outputs": [],
   "source": [
    "from braindecode.datautil.signal_target import SignalAndTarget\n",
    "from braindecode.models.shallow_fbcsp import ShallowFBCSPNet\n",
    "from braindecode.torch_ext.util import set_random_seeds\n",
    "\n",
    "from braindecode.torch_ext.optimizers import AdamW\n",
    "import time\n",
    "import torch.nn.functional as F\n",
    "\n",
    "\n",
    "# Split data up\n",
    "percent_train = 0.7\n",
    "num_train = int(len(X) * percent_train)\n",
    "percent_valid = 0.1\n",
    "num_valid = int(len(X) * percent_valid)\n",
    "\n",
    "train_set = SignalAndTarget(X[:num_train], Y[:num_train]-1)\n",
    "valid_set = SignalAndTarget(X[num_train:num_train + num_valid], Y[num_train:num_train + num_valid]-1)\n",
    "test_set = SignalAndTarget(X[num_train + num_valid:], y=Y[num_train + num_valid:]-1)\n",
    "whole_set = SignalAndTarget(X, Y-1)"
   ]
  },
  {
   "cell_type": "code",
   "execution_count": 19,
   "metadata": {},
   "outputs": [
    {
     "data": {
      "text/plain": [
       "array([1, 0, 1, 0, 1, 1, 1, 1, 1, 0, 0, 0, 0, 0, 1, 1, 0, 0, 1, 0, 1])"
      ]
     },
     "execution_count": 19,
     "metadata": {},
     "output_type": "execute_result"
    }
   ],
   "source": [
    "train_set.y"
   ]
  },
  {
   "cell_type": "code",
   "execution_count": 20,
   "metadata": {},
   "outputs": [
    {
     "name": "stdout",
     "output_type": "stream",
     "text": [
      "time taken: 20.113713026046753 s\n"
     ]
    }
   ],
   "source": [
    "# Brain Decode model\n",
    "\n",
    "start_time = time.time()\n",
    "cuda = False\n",
    "set_random_seeds(seed=20170629, cuda=cuda)\n",
    "n_classes = 2\n",
    "in_chans = train_set.X.shape[1]\n",
    "# final_conv_length = auto ensures we only get a single output in the time dimension\n",
    "model_t = ShallowFBCSPNet(in_chans=in_chans, n_classes=n_classes,\n",
    "                        input_time_length=train_set.X.shape[2], \n",
    "                        #filter_time_length=4,\n",
    "                        final_conv_length='auto')\n",
    "if cuda:\n",
    "    model_t.cuda()\n",
    "    \n",
    "optimizer = AdamW(model_t.parameters(), lr=1*0.01, weight_decay=0.5*0.001) # these are good values for the deep model\n",
    "#optimizer = AdamW(model_t.parameters(), lr=0.0625 * 0.01, weight_decay=0)\n",
    "model_t.compile(loss=F.nll_loss, optimizer=optimizer, iterator_seed=1)\n",
    "\n",
    "model_t.fit(train_set.X, train_set.y, epochs=100, batch_size=10, scheduler='cosine', validation_data=(valid_set.X, valid_set.y))\n",
    "\n",
    "end_time = time.time()\n",
    "elapsed = end_time - start_time\n",
    "print(\"time taken:\", elapsed, \"s\")"
   ]
  },
  {
   "cell_type": "code",
   "execution_count": 21,
   "metadata": {},
   "outputs": [
    {
     "data": {
      "text/plain": [
       "1.0"
      ]
     },
     "execution_count": 21,
     "metadata": {},
     "output_type": "execute_result"
    }
   ],
   "source": [
    "pred_train_y = model_t.predict_classes(train_set.X)\n",
    "\n",
    "sum(train_set.y == pred_train_y) / len(pred_train_y)"
   ]
  },
  {
   "cell_type": "code",
   "execution_count": 22,
   "metadata": {},
   "outputs": [
    {
     "data": {
      "text/plain": [
       "0.3333333333333333"
      ]
     },
     "execution_count": 22,
     "metadata": {},
     "output_type": "execute_result"
    }
   ],
   "source": [
    "pred_valid_y = model_t.predict_classes(valid_set.X)\n",
    "\n",
    "sum(valid_set.y == pred_valid_y) / len(pred_valid_y)"
   ]
  },
  {
   "cell_type": "code",
   "execution_count": 23,
   "metadata": {},
   "outputs": [
    {
     "data": {
      "text/plain": [
       "0.6666666666666666"
      ]
     },
     "execution_count": 23,
     "metadata": {},
     "output_type": "execute_result"
    }
   ],
   "source": [
    "pred_test_y = model_t.predict_classes(test_set.X)\n",
    "\n",
    "sum(test_set.y == pred_test_y) / len(pred_test_y)"
   ]
  },
  {
   "cell_type": "code",
   "execution_count": 24,
   "metadata": {},
   "outputs": [
    {
     "data": {
      "text/plain": [
       "array([1, 0, 0, 1, 1, 0])"
      ]
     },
     "execution_count": 24,
     "metadata": {},
     "output_type": "execute_result"
    }
   ],
   "source": [
    "pred_test_y"
   ]
  },
  {
   "cell_type": "code",
   "execution_count": 25,
   "metadata": {},
   "outputs": [
    {
     "data": {
      "text/plain": [
       "array([0, 0, 0, 1, 1, 1])"
      ]
     },
     "execution_count": 25,
     "metadata": {},
     "output_type": "execute_result"
    }
   ],
   "source": [
    "test_set.y"
   ]
  },
  {
   "cell_type": "markdown",
   "metadata": {},
   "source": [
    "## XDawn"
   ]
  },
  {
   "cell_type": "code",
   "execution_count": 26,
   "metadata": {},
   "outputs": [],
   "source": [
    "# # for models:\n",
    "from sklearn.metrics import classification_report\n",
    "from sklearn.linear_model import LogisticRegression\n",
    "from pyriemann.estimation import XdawnCovariances\n",
    "from pyriemann.tangentspace import TangentSpace\n"
   ]
  },
  {
   "cell_type": "code",
   "execution_count": 27,
   "metadata": {},
   "outputs": [],
   "source": [
    "# XDawn\n",
    "class XDawnLRModel(myModel): # XDAWN Covariance Preprocessing + Linear Regression Classifier\n",
    "    def __init__(self):\n",
    "        super().__init__()\n",
    "        self.XC = XdawnCovariances(nfilter = 1) # the number of filters can be changed\n",
    "        self.logreg = LogisticRegression()\n",
    "        \n",
    "    def fit(self, X, Y):\n",
    "        X_transformed = self.XC.fit_transform(X, Y)\n",
    "        X_transformed = TangentSpace(metric='riemann').fit_transform(X_transformed)\n",
    "        self.logreg.fit(X_transformed,Y)\n",
    "        \n",
    "    def predict(self, X):\n",
    "        X_transformed = self.XC.transform(X)\n",
    "        X_transformed = TangentSpace(metric='riemann').fit_transform(X_transformed)\n",
    "        return self.logreg.predict(X_transformed)\n",
    "    \n",
    "    def evaluate(self, X, Y): \n",
    "        loo = LeaveOneOut()\n",
    "        X_transformed = self.XC.fit_transform(X, Y)\n",
    "        X_transformed = TangentSpace(metric='riemann').fit_transform(X_transformed)\n",
    "        y_pred = []\n",
    "        y_true = []\n",
    "        for train_ix, test_ix in loo.split(Y):\n",
    "            # split data\n",
    "            X_train, X_test = X_transformed[train_ix, :], X_transformed[test_ix, :]\n",
    "            y_train, y_test = Y[train_ix], Y[test_ix]\n",
    "            \n",
    "            # fit model\n",
    "            model = LogisticRegression()\n",
    "            model.fit(X_train, y_train)\n",
    "            \n",
    "            # evaluate model\n",
    "            yhat = model.predict(X_test)\n",
    "            # store\n",
    "            y_true.append(y_test[0])\n",
    "            y_pred.append(yhat[0])\n",
    "        \n",
    "        # calculate accuracy\n",
    "        acc = accuracy_score(y_true, y_pred)\n",
    "        print('Accuracy: %.3f' % acc)\n",
    "\n"
   ]
  },
  {
   "cell_type": "code",
   "execution_count": 28,
   "metadata": {},
   "outputs": [
    {
     "name": "stdout",
     "output_type": "stream",
     "text": [
      "Accuracy: 0.800\n"
     ]
    }
   ],
   "source": [
    "model = XDawnLRModel()\n",
    "model.evaluate(X, Y)"
   ]
  },
  {
   "cell_type": "code",
   "execution_count": 29,
   "metadata": {},
   "outputs": [
    {
     "name": "stdout",
     "output_type": "stream",
     "text": [
      "              precision    recall  f1-score   support\n",
      "\n",
      "           1       0.50      0.40      0.44         5\n",
      "           2       0.40      0.50      0.44         4\n",
      "\n",
      "    accuracy                           0.44         9\n",
      "   macro avg       0.45      0.45      0.44         9\n",
      "weighted avg       0.46      0.44      0.44         9\n",
      "\n"
     ]
    }
   ],
   "source": [
    "model = XDawnLRModel()\n",
    "model.fit(X_train, Y_train)\n",
    "# return model\n",
    "Y_pred = model.predict(X_test)\n",
    "print(classification_report(Y_test, Y_pred))"
   ]
  },
  {
   "cell_type": "code",
   "execution_count": 30,
   "metadata": {},
   "outputs": [
    {
     "data": {
      "text/plain": [
       "0.4444444444444444"
      ]
     },
     "execution_count": 30,
     "metadata": {},
     "output_type": "execute_result"
    }
   ],
   "source": [
    "sum(Y_test == Y_pred)/len(Y_test)"
   ]
  },
  {
   "cell_type": "code",
   "execution_count": 31,
   "metadata": {},
   "outputs": [
    {
     "data": {
      "text/plain": [
       "array([1, 2, 1, 1, 1, 1, 2, 2, 2])"
      ]
     },
     "execution_count": 31,
     "metadata": {},
     "output_type": "execute_result"
    }
   ],
   "source": [
    "Y_test"
   ]
  },
  {
   "cell_type": "code",
   "execution_count": 32,
   "metadata": {},
   "outputs": [
    {
     "data": {
      "text/plain": [
       "array([1, 2, 1, 2, 2, 2, 1, 2, 1])"
      ]
     },
     "execution_count": 32,
     "metadata": {},
     "output_type": "execute_result"
    }
   ],
   "source": [
    "Y_pred"
   ]
  },
  {
   "cell_type": "code",
   "execution_count": null,
   "metadata": {},
   "outputs": [],
   "source": []
  },
  {
   "cell_type": "code",
   "execution_count": null,
   "metadata": {},
   "outputs": [],
   "source": []
  }
 ],
 "metadata": {
  "kernelspec": {
   "display_name": "Python 3",
   "language": "python",
   "name": "python3"
  },
  "language_info": {
   "codemirror_mode": {
    "name": "ipython",
    "version": 3
   },
   "file_extension": ".py",
   "mimetype": "text/x-python",
   "name": "python",
   "nbconvert_exporter": "python",
   "pygments_lexer": "ipython3",
   "version": "3.6.8"
  }
 },
 "nbformat": 4,
 "nbformat_minor": 4
}
