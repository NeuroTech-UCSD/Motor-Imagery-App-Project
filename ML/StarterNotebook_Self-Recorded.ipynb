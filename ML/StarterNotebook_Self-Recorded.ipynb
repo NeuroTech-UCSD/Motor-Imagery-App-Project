{
 "cells": [
  {
   "cell_type": "code",
   "execution_count": null,
   "metadata": {},
   "outputs": [],
   "source": [
    "from data_processing_helper import * "
   ]
  },
  {
   "cell_type": "markdown",
   "metadata": {},
   "source": [
    "## Specific helper functions"
   ]
  },
  {
   "cell_type": "code",
   "execution_count": null,
   "metadata": {},
   "outputs": [],
   "source": [
    "def getOutputLabelsAndEpochTimes(event_df):\n",
    "    # Generates the ordered list of output labels and epoch time pairs\n",
    "    # Input: event_df -- the event dataframe from the csv file\n",
    "    # Output: \n",
    "    #    output_labels -- [1, 2, 4, 3, etc] where the integers correspond to the trial type encoded\n",
    "    #    epoch_times -- [[<timestamp of start>, <timestamp of end>], [<timestamp of start>, <timestamp of end>], etc]\n",
    "    \n",
    "    output_labels = []\n",
    "    epoch_times = []\n",
    "    current_epoch = []\n",
    "    for index, row in event_df.iterrows():\n",
    "        event_info = row['EventStart'].split(\"_\")\n",
    "        if event_info[0] == 'start': \n",
    "            output_labels.append(int(event_info[1]))\n",
    "            current_epoch.append(row['time'])\n",
    "        else :\n",
    "            current_epoch.append(row['time'])\n",
    "            epoch_times.append(list(current_epoch))\n",
    "            current_epoch = []\n",
    "    return np.array(output_labels), np.array(epoch_times)"
   ]
  },
  {
   "cell_type": "code",
   "execution_count": null,
   "metadata": {},
   "outputs": [],
   "source": [
    "def getEEGEpochs(epoch_times, eeg_df, target_num_trials=1000):\n",
    "    # Slices and generates the epochs in the eeg_df given the epoch_times\n",
    "    # Input: \n",
    "    #    epoch_times: [[<timestamp of start>, <timestamp of end>], [<timestamp of start>, <timestamp of end>], etc]\n",
    "    #    eeg_df: dataframe from csv file\n",
    "    # Output: \n",
    "    #    a numpy array containing eeg_epochs (#epoch, #chans, #timepoints)\n",
    "    eeg_epochs = []\n",
    "    for epoch_time in epoch_times: \n",
    "        sub_df = eeg_df[(eeg_df['time'] > epoch_time[0]) & (eeg_df['time'] < epoch_time[1])]\n",
    "        sub_df = sub_df.drop(columns=['time'])\n",
    "        num_above = len(sub_df) - target_num_trials\n",
    "        if num_above >= 0:\n",
    "            epoch = np.array(sub_df.values[num_above // 2: len(sub_df) - num_above // 2])[:1000]\n",
    "            eeg_epochs.append(epoch.T)\n",
    "            if len(epoch) != 1000:\n",
    "                print(\"Warning: Potential off by 1 error. Found trail with != 1000 samples:\", len(epoch))\n",
    "        else: \n",
    "            print(\"Warning: Epoch with less than\", target_num_trials, \"eeg samples\")\n",
    "    return np.array(eeg_epochs)\n"
   ]
  },
  {
   "cell_type": "markdown",
   "metadata": {},
   "source": [
    "### Main"
   ]
  },
  {
   "cell_type": "code",
   "execution_count": null,
   "metadata": {},
   "outputs": [],
   "source": [
    "eeg_filename = \"./data/self_recorded/eeg_data 15_motorvis.csv\"\n",
    "event_filename = \"./data/self_recorded/event_data 15_motorvis.csv\"\n",
    "\n",
    "chans = ['C4','C2', 'C1', 'C3']\n",
    "eeg_df = pd.read_csv(eeg_filename)\n",
    "eeg_df.columns=['time','C4', 'C2', 'C1', 'C3']\n",
    "\n",
    "event_df = pd.read_csv(event_filename)\n",
    "event_df.columns=['time', 'EventStart']\n",
    "event_types = {0:\"eye_close\", 1:\"left\", 2:\"right\", 3:\"foot\", 4:\"idle\"}\n",
    "\n",
    "# Filter the full data\n",
    "filtered_df = eeg_df.copy()\n",
    "for chan in chans:\n",
    "    filtered_df[chan] = filterEEG(filtered_df[chan].values)"
   ]
  },
  {
   "cell_type": "code",
   "execution_count": null,
   "metadata": {},
   "outputs": [],
   "source": [
    "# Process dfs to get labels, raw eeg epochs, epochs of filtered eeg data, filtered epoch data\n",
    "output_labels, epoch_times = getOutputLabelsAndEpochTimes(event_df)\n",
    "raw_eeg_epochs = getEEGEpochs(epoch_times, eeg_df) # Raw eeg epochs\n",
    "filtered_epochs = getEEGEpochs(epoch_times, filtered_df) # Epoched after filtering\n",
    "\n",
    "# Create DataFrames\n",
    "raw_eeg_epoch_df = getDF(raw_eeg_epochs, output_labels, epoch_times, chans)\n",
    "filtered_epoch_df = getDF(filtered_epochs, output_labels, epoch_times, chans)\n",
    "filtered_epoch_df.head(2)"
   ]
  },
  {
   "cell_type": "code",
   "execution_count": null,
   "metadata": {},
   "outputs": [],
   "source": [
    "# Visualize EEG and PSD for one trial\n",
    "plt.figure(figsize=(15,5))\n",
    "trial_num = 0\n",
    "\n",
    "for ch in chans: \n",
    "    plt.plot(filtered_epoch_df[ch][trial_num], label=ch)\n",
    "plt.ylabel(\"Voltage (uV)\")\n",
    "plt.xlabel(\"timepoints @ 250Hz\")\n",
    "plt.title(\"EEG of one motor imagery trial\")\n",
    "plt.legend() \n",
    "plt.show()\n",
    "\n",
    "plt.figure(figsize=(15,5))\n",
    "for ch in chans: \n",
    "    plotPSD_fromEEG(filtered_epoch_df.iloc[trial_num][ch], pre_cut_off_freq=2, post_cut_off_freq=30, label=ch)\n",
    "plt.title(\"PSD of one motor imagery trial\")\n",
    "plt.legend()\n",
    "plt.show()\n"
   ]
  },
  {
   "cell_type": "code",
   "execution_count": null,
   "metadata": {},
   "outputs": [],
   "source": [
    "# Get PSD averages for each channel for each event type \n",
    "# (0 = eye close, 1 = left, 2 = right, 3 = foot, 4 = idle)\n",
    "psd_averages_by_type = {}\n",
    "\n",
    "for event_type in range(0, 5): \n",
    "    psds_only_one_type={}\n",
    "    freqs_only_one_type={}\n",
    "    for i, row in filtered_epoch_df[filtered_epoch_df[\"event_type\"] == event_type].iterrows(): \n",
    "        for ch in chans: \n",
    "            if ch not in psds_only_one_type: \n",
    "                psds_only_one_type[ch] = list()\n",
    "                freqs_only_one_type[ch] = list()\n",
    "            f, p = getMeanFreqPSD(row[ch])\n",
    "            psds_only_one_type[ch].append(p)\n",
    "            freqs_only_one_type[ch].append(f)\n",
    "    avg_psds_one_type = {}\n",
    "    for ch in chans:\n",
    "        psds_only_one_type[ch] = np.array(psds_only_one_type[ch])\n",
    "        avg_psds_one_type[ch] = np.mean(psds_only_one_type[ch], axis=0)\n",
    "    psd_averages_by_type[event_type] = dict(avg_psds_one_type)"
   ]
  },
  {
   "cell_type": "code",
   "execution_count": null,
   "metadata": {},
   "outputs": [],
   "source": [
    "# View Average PSDs\n",
    "for event_type in range(0, 5): \n",
    "    for ch in ['C4', 'C3']: \n",
    "        plotPSD(freqs_only_one_type[chans[0]][0], psd_averages_by_type[event_type][ch],pre_cut_off_freq=2, post_cut_off_freq=30, label=ch)\n",
    "\n",
    "    # Plot for each event type\n",
    "    plt.legend()\n",
    "    plt.title(\"event type \" + event_types[event_type])\n",
    "    plt.show()"
   ]
  },
  {
   "cell_type": "markdown",
   "metadata": {},
   "source": [
    "# For testing with ML Models to make sure output is fine"
   ]
  },
  {
   "cell_type": "code",
   "execution_count": null,
   "metadata": {},
   "outputs": [],
   "source": [
    "# # for models:\n",
    "from pyriemann.estimation import XdawnCovariances\n",
    "from pyriemann.tangentspace import TangentSpace\n",
    "from sklearn.metrics import classification_report\n",
    "from sklearn.linear_model import LogisticRegression\n"
   ]
  },
  {
   "cell_type": "code",
   "execution_count": null,
   "metadata": {},
   "outputs": [],
   "source": [
    "X = filtered_epochs[3:]\n",
    "Y = output_labels[3:]"
   ]
  },
  {
   "cell_type": "code",
   "execution_count": null,
   "metadata": {},
   "outputs": [],
   "source": [
    "#Default 4:1 split\n",
    "#Suffle\n",
    "temp=list(zip(Y, X))\n",
    "random.shuffle(temp)\n",
    "Y, X = zip(*temp)\n",
    "#Split train/test\n",
    "X_train = np.array(X[:int(len(X)*4/(4+1))])\n",
    "X_test = np.array(X[int(len(X)*4/(4+1)):])\n",
    "Y_train = np.array(Y[:int(len(Y)*4/(4+1))])\n",
    "Y_test = np.array(Y[int(len(Y)*4/(4+1)):])\n",
    "\n",
    "class myModel:\n",
    "    def __init__(self):\n",
    "        pass\n",
    "    def fit(X, Y):\n",
    "        pass\n",
    "    def predict(X):\n",
    "        pass\n",
    "    \n",
    "class XDawnLRModel(myModel): # XDAWN Covariance Preprocessing + Linear Regression Classifier\n",
    "    def __init__(self):\n",
    "        super().__init__()\n",
    "        self.XC = XdawnCovariances(nfilter = 1) # the number of filters can be changed\n",
    "        self.logreg = LogisticRegression()\n",
    "        \n",
    "    def fit(self, X, Y):\n",
    "        X_transformed = self.XC.fit_transform(X, Y)\n",
    "        X_transformed = TangentSpace(metric='riemann').fit_transform(X_transformed)\n",
    "        self.logreg.fit(X_transformed,Y)\n",
    "        \n",
    "    def predict(self, X):\n",
    "        X_transformed = self.XC.transform(X)\n",
    "        X_transformed = TangentSpace(metric='riemann').fit_transform(X_transformed)\n",
    "        return self.logreg.predict(X_transformed)\n",
    "\n",
    "model = XDawnLRModel()\n",
    "model.fit(X_train, Y_train)\n",
    "#return model"
   ]
  },
  {
   "cell_type": "code",
   "execution_count": null,
   "metadata": {},
   "outputs": [],
   "source": [
    "Y_pred = model.predict(X_test)\n",
    "print(classification_report(Y_test, Y_pred))"
   ]
  },
  {
   "cell_type": "code",
   "execution_count": null,
   "metadata": {},
   "outputs": [],
   "source": [
    "sum(Y_test == Y_pred)/len(Y_test)"
   ]
  },
  {
   "cell_type": "code",
   "execution_count": null,
   "metadata": {},
   "outputs": [],
   "source": []
  }
 ],
 "metadata": {
  "kernelspec": {
   "display_name": "Python 3",
   "language": "python",
   "name": "python3"
  },
  "language_info": {
   "codemirror_mode": {
    "name": "ipython",
    "version": 3
   },
   "file_extension": ".py",
   "mimetype": "text/x-python",
   "name": "python",
   "nbconvert_exporter": "python",
   "pygments_lexer": "ipython3",
   "version": "3.6.8"
  }
 },
 "nbformat": 4,
 "nbformat_minor": 4
}
