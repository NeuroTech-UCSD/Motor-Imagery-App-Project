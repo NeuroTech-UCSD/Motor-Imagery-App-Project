{
 "cells": [
  {
   "cell_type": "code",
   "execution_count": 1,
   "metadata": {
    "scrolled": false
   },
   "outputs": [],
   "source": [
    "import numpy as np                                      # for dealing with data\n",
    "from scipy.signal import butter, sosfiltfilt, sosfreqz  # for filtering\n",
    "import matplotlib.pyplot as plt                         # for plotting\n",
    "import pandas as pd\n",
    "import os\n",
    "from os import listdir\n",
    "from os.path import isfile, join, isdir\n",
    "from generate_epoch import *\n",
    "from sklearn.linear_model import LogisticRegression\n",
    "import pickle\n",
    "\n",
    "from pystacknet.pystacknet import StackNetClassifier\n",
    "from sklearn.tree import DecisionTreeClassifier\n",
    "from sklearn.ensemble import BaggingClassifier, ExtraTreesClassifier, GradientBoostingClassifier, AdaBoostClassifier\n",
    "from sklearn.linear_model import LogisticRegression\n",
    "from sklearn.svm import SVC\n",
    "from sklearn.discriminant_analysis import LinearDiscriminantAnalysis as LDA\n",
    "from sklearn.model_selection import KFold\n",
    "from lightgbm import LGBMClassifier\n",
    "from xgboost import XGBClassifier\n",
    "from sklearn.gaussian_process import GaussianProcessClassifier\n",
    "from sklearn.neural_network import MLPClassifier, MLPRegressor"
   ]
  },
  {
   "cell_type": "code",
   "execution_count": 2,
   "metadata": {},
   "outputs": [],
   "source": [
    "train_list_arr = np.array(sorted(listdir('data/train')))\n",
    "total_training_participant = 9\n",
    "trial_per_subj = 3 # 9 x 3 = 27 csv files in total\n",
    "train_list_arr = train_list_arr[1:]\n",
    "train_list_np = np.reshape(train_list_arr, (total_training_participant,trial_per_subj))\n",
    "test_list_arr = np.array(sorted(listdir('data/test')))\n",
    "total_testing_participant = 9\n",
    "test_trial_per_subj = 2\n",
    "test_list_arr = test_list_arr[1:]\n",
    "test_list_np = np.reshape(test_list_arr, (total_testing_participant,test_trial_per_subj))"
   ]
  },
  {
   "cell_type": "code",
   "execution_count": 3,
   "metadata": {},
   "outputs": [
    {
     "data": {
      "text/plain": [
       "array([['B0101T.csv', 'B0102T.csv', 'B0103T.csv'],\n",
       "       ['B0201T.csv', 'B0202T.csv', 'B0203T.csv'],\n",
       "       ['B0301T.csv', 'B0302T.csv', 'B0303T.csv'],\n",
       "       ['B0401T.csv', 'B0402T.csv', 'B0403T.csv'],\n",
       "       ['B0501T.csv', 'B0502T.csv', 'B0503T.csv'],\n",
       "       ['B0601T.csv', 'B0602T.csv', 'B0603T.csv'],\n",
       "       ['B0701T.csv', 'B0702T.csv', 'B0703T.csv'],\n",
       "       ['B0801T.csv', 'B0802T.csv', 'B0803T.csv'],\n",
       "       ['B0901T.csv', 'B0902T.csv', 'B0903T.csv']], dtype='<U10')"
      ]
     },
     "execution_count": 3,
     "metadata": {},
     "output_type": "execute_result"
    }
   ],
   "source": [
    "train_list_np"
   ]
  },
  {
   "cell_type": "code",
   "execution_count": 4,
   "metadata": {},
   "outputs": [
    {
     "data": {
      "text/plain": [
       "array([['B0104E.csv', 'B0105E.csv'],\n",
       "       ['B0204E.csv', 'B0205E.csv'],\n",
       "       ['B0304E.csv', 'B0305E.csv'],\n",
       "       ['B0404E.csv', 'B0405E.csv'],\n",
       "       ['B0504E.csv', 'B0505E.csv'],\n",
       "       ['B0604E.csv', 'B0605E.csv'],\n",
       "       ['B0704E.csv', 'B0705E.csv'],\n",
       "       ['B0804E.csv', 'B0805E.csv'],\n",
       "       ['B0904E.csv', 'B0905E.csv']], dtype='<U10')"
      ]
     },
     "execution_count": 4,
     "metadata": {},
     "output_type": "execute_result"
    }
   ],
   "source": [
    "test_list_np"
   ]
  },
  {
   "cell_type": "markdown",
   "metadata": {},
   "source": [
    "epoching all training and testing data"
   ]
  },
  {
   "cell_type": "code",
   "execution_count": 5,
   "metadata": {},
   "outputs": [],
   "source": [
    "stimulus_per_subj = 360\n",
    "stimulus_per_subj_test = 240\n",
    "channels = ['C3','Cz','C4']\n",
    "epoch_s = 0\n",
    "epoch_e = 4000 #4 seconds\n",
    "fs = 250\n",
    "epoch_len = int((abs(epoch_s) + abs(epoch_e)) * (fs / 1000))\n",
    "train_data_list = np.empty((0, stimulus_per_subj, len(channels), epoch_len), float)\n",
    "test_data_list = np.empty((0, stimulus_per_subj_test, len(channels), epoch_len), float)"
   ]
  },
  {
   "cell_type": "code",
   "execution_count": 6,
   "metadata": {},
   "outputs": [],
   "source": [
    "def butter_bandpass_filter(data, lowcut, highcut, fs, order = 2):\n",
    "#     nyq = 0.5 * fs\n",
    "#     low = lowcut / nyq\n",
    "#     high = highcut / nyq\n",
    "#     sos = butter(order, [low, high], analog = False, btype = 'band', output = 'sos')\n",
    "#     filted_data = sosfiltfilt(sos, data)\n",
    "#     return filted_data\n",
    "    return data"
   ]
  },
  {
   "cell_type": "code",
   "execution_count": 7,
   "metadata": {},
   "outputs": [
    {
     "name": "stdout",
     "output_type": "stream",
     "text": [
      "Epoched training data shape: (9, 360, 3, 1000)\n",
      "Epoched testing data shape: (9, 240, 3, 1000)\n"
     ]
    }
   ],
   "source": [
    "lowcut = 0.5\n",
    "highcut = 100\n",
    "bl_s = -400\n",
    "bl_e = -300\n",
    "for training_participant_id in range(total_training_participant):\n",
    "    subject_dir_list = train_list_np[training_participant_id]\n",
    "    subject_epoch = np.empty((0, len(channels), epoch_len), float)\n",
    "    for trial_id in range(trial_per_subj):\n",
    "        subject_dir = subject_dir_list[trial_id]\n",
    "        data = generate_epoch(file_path = 'data/train/'+subject_dir, channels = channels, \\\n",
    "                              eeg_filter = butter_bandpass_filter, fs = fs, epoch_s = epoch_s, \\\n",
    "                              epoch_e = epoch_e, bl_s = bl_s, bl_e = bl_e)\n",
    "        subject_epoch = np.vstack((subject_epoch, data))\n",
    "    subject_epoch = np.reshape(subject_epoch, (1, stimulus_per_subj, len(channels), epoch_len))\n",
    "    train_data_list = np.vstack((train_data_list, subject_epoch))\n",
    "\n",
    "print('Epoched training data shape: '+ str(train_data_list.shape))\n",
    "\n",
    "for testing_participant_id in range(total_testing_participant):\n",
    "    subject_dir_list = test_list_np[testing_participant_id]\n",
    "    subject_epoch = np.empty((0, len(channels), epoch_len), float)\n",
    "    for trial_id in range(test_trial_per_subj):\n",
    "        subject_dir = subject_dir_list[trial_id]\n",
    "        data = generate_epoch(file_path = 'data/test/'+subject_dir, channels = channels, \\\n",
    "                              eeg_filter = butter_bandpass_filter, fs = fs, epoch_s = epoch_s, \\\n",
    "                              epoch_e = epoch_e, bl_s = bl_s, bl_e = bl_e)\n",
    "        subject_epoch = np.vstack((subject_epoch, data))\n",
    "    subject_epoch = np.reshape(subject_epoch, (1, stimulus_per_subj_test, len(channels), epoch_len))\n",
    "    test_data_list = np.vstack((test_data_list, subject_epoch))\n",
    "\n",
    "print('Epoched testing data shape: '+ str(test_data_list.shape))"
   ]
  },
  {
   "cell_type": "markdown",
   "metadata": {},
   "source": [
    "Load Labels"
   ]
  },
  {
   "cell_type": "code",
   "execution_count": 8,
   "metadata": {},
   "outputs": [
    {
     "name": "stdout",
     "output_type": "stream",
     "text": [
      "(3240,)\n",
      "(2160,)\n"
     ]
    }
   ],
   "source": [
    "y = pd.read_csv('data/TrainLabels.csv', header = None)\n",
    "y = y.values.reshape(3240,)\n",
    "print(y.shape)\n",
    "yT = pd.read_csv('data/true_labels.csv', header = None) # put your train label path here\n",
    "yT = yT.values.reshape(2160,)\n",
    "print(yT.shape)"
   ]
  },
  {
   "cell_type": "markdown",
   "metadata": {},
   "source": [
    "Preprocessing with XDawn + TangentSpace Transform"
   ]
  },
  {
   "cell_type": "code",
   "execution_count": 9,
   "metadata": {},
   "outputs": [
    {
     "name": "stdout",
     "output_type": "stream",
     "text": [
      "(3240, 4, 4)\n",
      "(3240, 10)\n"
     ]
    }
   ],
   "source": [
    "from pyriemann.estimation import XdawnCovariances\n",
    "from pyriemann.tangentspace import TangentSpace\n",
    "XC = XdawnCovariances(nfilter=1)\n",
    "output = XC.fit_transform(np.reshape(train_data_list, (9*360, 3, 1000)), y)\n",
    "print(output.shape)\n",
    "output = TangentSpace(metric='riemann').fit_transform(output)\n",
    "print(output.shape)"
   ]
  },
  {
   "cell_type": "code",
   "execution_count": 10,
   "metadata": {},
   "outputs": [
    {
     "data": {
      "text/plain": [
       "(2160, 10)"
      ]
     },
     "execution_count": 10,
     "metadata": {},
     "output_type": "execute_result"
    }
   ],
   "source": [
    "outputT = XC.fit_transform(np.reshape(test_data_list, (9*240, 3, 1000)), yT)\n",
    "outputT = TangentSpace(metric='riemann').fit_transform(outputT)\n",
    "outputT.shape"
   ]
  },
  {
   "cell_type": "code",
   "execution_count": 11,
   "metadata": {},
   "outputs": [
    {
     "name": "stdout",
     "output_type": "stream",
     "text": [
      "(6, 360, 10) (3, 360, 10)\n"
     ]
    }
   ],
   "source": [
    "X = np.reshape(output, (9, 360, 10))\n",
    "data_train = X[:6]\n",
    "data_test = X[-3:]\n",
    "print(data_train.shape, data_test.shape)"
   ]
  },
  {
   "cell_type": "code",
   "execution_count": 12,
   "metadata": {},
   "outputs": [
    {
     "name": "stdout",
     "output_type": "stream",
     "text": [
      "(3240, 10) (3240,) (2160, 10) (2160,)\n"
     ]
    }
   ],
   "source": [
    "# data split\n",
    "y_train, y_test = np.array([]), np.array([])\n",
    "y_train = y\n",
    "\n",
    "y_test = yT\n",
    "\n",
    "X_train = output\n",
    "\n",
    "X_test = outputT\n",
    "\n",
    "print(X_train.shape, y_train.shape, X_test.shape, y_test.shape)"
   ]
  },
  {
   "cell_type": "code",
   "execution_count": 13,
   "metadata": {},
   "outputs": [
    {
     "data": {
      "text/plain": [
       "LogisticRegression(C=1.0, class_weight=None, dual=False, fit_intercept=True,\n",
       "                   intercept_scaling=1, l1_ratio=None, max_iter=100,\n",
       "                   multi_class='auto', n_jobs=None, penalty='l2',\n",
       "                   random_state=None, solver='lbfgs', tol=0.0001, verbose=0,\n",
       "                   warm_start=False)"
      ]
     },
     "execution_count": 13,
     "metadata": {},
     "output_type": "execute_result"
    }
   ],
   "source": [
    "logreg = LogisticRegression()\n",
    "logreg.fit(X_train,y_train)"
   ]
  },
  {
   "cell_type": "code",
   "execution_count": 14,
   "metadata": {},
   "outputs": [],
   "source": [
    "y_pred = logreg.predict(X_test)"
   ]
  },
  {
   "cell_type": "code",
   "execution_count": 15,
   "metadata": {},
   "outputs": [
    {
     "name": "stdout",
     "output_type": "stream",
     "text": [
      "              precision    recall  f1-score   support\n",
      "\n",
      "           0       0.70      0.70      0.70      1080\n",
      "           1       0.70      0.70      0.70      1080\n",
      "\n",
      "    accuracy                           0.70      2160\n",
      "   macro avg       0.70      0.70      0.70      2160\n",
      "weighted avg       0.70      0.70      0.70      2160\n",
      "\n"
     ]
    }
   ],
   "source": [
    "from sklearn.metrics import classification_report\n",
    "print(classification_report(y_test, y_pred))"
   ]
  },
  {
   "cell_type": "code",
   "execution_count": 16,
   "metadata": {},
   "outputs": [],
   "source": [
    "from sklearn.ensemble import RandomForestClassifier\n",
    "from sklearn.model_selection import GridSearchCV\n",
    "\n",
    "# Create the parameter grid based on the results of random search \n",
    "param_grid = {\n",
    "    'bootstrap': [True],\n",
    "    'max_depth': [80, 90, 100, 110],\n",
    "    'max_features': [2, 3],\n",
    "    'n_estimators': [100, 200, 300, 1000]\n",
    "}\n",
    "\n",
    "# Fit the grid search to the data\n",
    "if not isfile('random_forest_gs'): \n",
    "    rf = RandomForestClassifier()\n",
    "    # Instantiate the grid search model\n",
    "    grid_search = GridSearchCV(estimator = rf, param_grid = param_grid, \n",
    "               cv = 4, n_jobs = -1)\n",
    "    grid_search.fit(X_train, y_train)\n",
    "    pickle.dump(grid_search, open('random_forest_gs', 'wb'))"
   ]
  },
  {
   "cell_type": "code",
   "execution_count": 17,
   "metadata": {},
   "outputs": [
    {
     "name": "stdout",
     "output_type": "stream",
     "text": [
      "{'bootstrap': True, 'max_depth': 90, 'max_features': 3, 'n_estimators': 1000}\n"
     ]
    }
   ],
   "source": [
    "grid_search = pickle.load(open('random_forest_gs', 'rb'))\n",
    "print(grid_search.best_params_)"
   ]
  },
  {
   "cell_type": "code",
   "execution_count": 18,
   "metadata": {},
   "outputs": [
    {
     "data": {
      "image/png": "[encoded data removed]",
      "text/plain": [
       "<Figure size 432x288 with 1 Axes>"
      ]
     },
     "metadata": {
      "needs_background": "light"
     },
     "output_type": "display_data"
    }
   ],
   "source": [
    "from sklearn.metrics import roc_auc_score, roc_curve\n",
    "\n",
    "# Predict the probability of our label score\n",
    "Y_pred_proba = grid_search.predict_proba(X_test)\n",
    "\n",
    "r_roc_auc = roc_auc_score(y_test, Y_pred_proba[:,1])\n",
    "fpr, tpr, thresholds = roc_curve(y_test, Y_pred_proba[:,1])\n",
    "plt.figure()\n",
    "plt.plot(fpr, tpr, label='RandomForest (area = %0.2f)' % r_roc_auc)\n",
    "plt.plot([0, 1], [0, 1],'r--')\n",
    "plt.xlim([0.0, 1.0])\n",
    "plt.ylim([0.0, 1.05])\n",
    "plt.xlabel('False Positive Rate')\n",
    "plt.ylabel('True Positive Rate')\n",
    "plt.title('ROC of RandomForest (4-fold CV)')\n",
    "plt.legend(loc=\"lower right\")\n",
    "#plt.savefig('images2/Randomforest_ROC')\n",
    "plt.show()"
   ]
  },
  {
   "cell_type": "markdown",
   "metadata": {},
   "source": [
    "StackNet"
   ]
  },
  {
   "cell_type": "code",
   "execution_count": 19,
   "metadata": {},
   "outputs": [],
   "source": [
    "models = [\n",
    "    #1ST layer #\n",
    "    [GridSearchCV(LDA(solver='lsqr'),  {'shrinkage': (0.01, 0.1, 1.)}, cv=3, n_jobs=-1),\n",
    "     GridSearchCV(SVC(class_weight='balanced', probability=True),  {'kernel': [\n",
    "                  'rbf'], 'gamma': [10**(-2), 10**(-3)], 'C': [100, 10, 1, 0.1]}, cv=3, n_jobs=-1),\n",
    "     GridSearchCV(LogisticRegression(class_weight='balanced',\n",
    "                                     solver='lbfgs', max_iter=100000), {'C': [100, 10, 1, 0.1]}, cv=3, n_jobs=-1),\n",
    "     LGBMClassifier(boosting_type='gbdt', num_leaves=40, max_depth=-1, learning_rate=0.01, n_estimators=1000, class_weight='balanced', subsample_for_bin=1000, objective=\"xentropy\",\n",
    "                    min_split_gain=0.0, min_child_weight=0.01, min_child_samples=10, subsample=0.9, subsample_freq=1, colsample_bytree=0.5, reg_alpha=0.0, reg_lambda=0.0, random_state=1, n_jobs=1),\n",
    "     GaussianProcessClassifier(),\n",
    "     XGBClassifier(max_depth=5, learning_rate=0.3, reg_lambda=0.1, n_estimators=300,\n",
    "                   objective=\"binary:logistic\", n_jobs=1, booster=\"gblinear\", random_state=1, colsample_bytree=0.4),\n",
    "     XGBClassifier(max_depth=20, learning_rate=0.1, n_estimators=300, objective=\"binary:logistic\",\n",
    "                   n_jobs=1, booster=\"gbtree\", random_state=1, colsample_bytree=0.4),\n",
    "     XGBClassifier(max_depth=100, learning_rate=0.1, n_estimators=300, objective=\"rank:pairwise\",\n",
    "                   n_jobs=1, booster=\"gbtree\", random_state=1, colsample_bytree=0.4),\n",
    "     ],\n",
    "\n",
    "    #2ND layer #\n",
    "    [\n",
    "        RandomForestClassifier(max_depth=50, n_estimators=50),\n",
    "        AdaBoostClassifier(base_estimator=DecisionTreeClassifier(\n",
    "            max_depth=5), n_estimators=200),\n",
    "        ExtraTreesClassifier(max_depth=5, n_estimators=50),\n",
    "    ],\n",
    "\n",
    "    #3RD layer #\n",
    "    [\n",
    "        RandomForestClassifier(\n",
    "            max_depth=5, class_weight='balanced', n_estimators=100),\n",
    "        SVC(kernel='linear', class_weight='balanced', probability=True),\n",
    "        MLPClassifier(hidden_layer_sizes=(32, 16), activation=\"relu\", solver=\"sgd\", alpha=0.01,\n",
    "                      batch_size=30, learning_rate=\"adaptive\", learning_rate_init=0.001, power_t=0.5,\n",
    "                      max_iter=100, shuffle=True, random_state=1, tol=0.0001, nesterovs_momentum=True, momentum=0.9, validation_fraction=0.1, early_stopping=True,\n",
    "                      beta_1=0.1, beta_2=0.1, epsilon=0.1)\n",
    "    ]\n",
    "]"
   ]
  },
  {
   "cell_type": "code",
   "execution_count": 20,
   "metadata": {},
   "outputs": [],
   "source": [
    "# leave 4 subject out\n",
    "kf = KFold(4)\n",
    "generator = kf.split(X_train, y_train)\n",
    "\n",
    "# build StackNet\n",
    "stacknet = StackNetClassifier(models, metric=\"auc\", folds=generator, \n",
    "           restacking=False, use_retraining=True, use_proba=True,\n",
    "           n_jobs=-1, verbose=1)"
   ]
  },
  {
   "cell_type": "code",
   "execution_count": 21,
   "metadata": {},
   "outputs": [],
   "source": [
    "\n",
    "# make predictions\n",
    "# if not isfile('data/stacknet_prediction.npy'):\n",
    "#     stacknet.fit(X_train, y_train)\n",
    "#     y_probs = stacknet.predict_proba(X_test)[:, 1]\n",
    "#     np.save('data/stacknet_prediction.npy', y_probs)"
   ]
  },
  {
   "cell_type": "markdown",
   "metadata": {},
   "source": [
    "EEGNet"
   ]
  },
  {
   "cell_type": "code",
   "execution_count": 22,
   "metadata": {},
   "outputs": [],
   "source": [
    "import tensorflow as tf\n",
    "from tensorflow.keras.models import Model\n",
    "from tensorflow.keras.layers import Dense, Activation, Permute, Dropout\n",
    "from tensorflow.keras.layers import Conv2D, MaxPooling2D, AveragePooling2D\n",
    "from tensorflow.keras.layers import SeparableConv2D, DepthwiseConv2D\n",
    "from tensorflow.keras.layers import BatchNormalization\n",
    "from tensorflow.keras.layers import SpatialDropout2D\n",
    "from tensorflow.keras.regularizers import l1_l2\n",
    "from tensorflow.keras.layers import Input, Flatten\n",
    "from tensorflow.keras.constraints import max_norm\n",
    "from tensorflow.keras import backend as K\n",
    "from tensorflow.keras import optimizers\n",
    "from tensorflow.keras import utils as np_utils\n",
    "from tensorflow.keras.callbacks import ModelCheckpoint"
   ]
  },
  {
   "cell_type": "code",
   "execution_count": 23,
   "metadata": {},
   "outputs": [],
   "source": [
    "def EEGNet(nb_classes, Chans = 64, Samples = 128, \n",
    "             dropoutRate = 0.5, kernLength = 64, F1 = 8, \n",
    "             D = 2, F2 = 16, norm_rate = 0.25, dropoutType = 'Dropout'):\n",
    "    \"\"\" Keras Implementation of EEGNet\n",
    "    http://iopscience.iop.org/article/10.1088/1741-2552/aace8c/meta\n",
    "\n",
    "    Note that this implements the newest version of EEGNet and NOT the earlier\n",
    "    version (version v1 and v2 on arxiv). We strongly recommend using this\n",
    "    architecture as it performs much better and has nicer properties than\n",
    "    our earlier version. For example:\n",
    "        \n",
    "        1. Depthwise Convolutions to learn spatial filters within a \n",
    "        temporal convolution. The use of the depth_multiplier option maps \n",
    "        exactly to the number of spatial filters learned within a temporal\n",
    "        filter. This matches the setup of algorithms like FBCSP which learn \n",
    "        spatial filters within each filter in a filter-bank. This also limits \n",
    "        the number of free parameters to fit when compared to a fully-connected\n",
    "        convolution. \n",
    "        \n",
    "        2. Separable Convolutions to learn how to optimally combine spatial\n",
    "        filters across temporal bands. Separable Convolutions are Depthwise\n",
    "        Convolutions followed by (1x1) Pointwise Convolutions. \n",
    "        \n",
    "    \n",
    "    While the original paper used Dropout, we found that SpatialDropout2D \n",
    "    sometimes produced slightly better results for classification of ERP \n",
    "    signals. However, SpatialDropout2D significantly reduced performance \n",
    "    on the Oscillatory dataset (SMR, BCI-IV Dataset 2A). We recommend using\n",
    "    the default Dropout in most cases.\n",
    "        \n",
    "    Assumes the input signal is sampled at 128Hz. If you want to use this model\n",
    "    for any other sampling rate you will need to modify the lengths of temporal\n",
    "    kernels and average pooling size in blocks 1 and 2 as needed (double the \n",
    "    kernel lengths for double the sampling rate, etc). Note that we haven't \n",
    "    tested the model performance with this rule so this may not work well. \n",
    "    \n",
    "    The model with default parameters gives the EEGNet-8,2 model as discussed\n",
    "    in the paper. This model should do pretty well in general, although it is\n",
    "\tadvised to do some model searching to get optimal performance on your\n",
    "\tparticular dataset.\n",
    "\n",
    "    We set F2 = F1 * D (number of input filters = number of output filters) for\n",
    "    the SeparableConv2D layer. We haven't extensively tested other values of this\n",
    "    parameter (say, F2 < F1 * D for compressed learning, and F2 > F1 * D for\n",
    "    overcomplete). We believe the main parameters to focus on are F1 and D. \n",
    "\n",
    "    Inputs:\n",
    "        \n",
    "      nb_classes      : int, number of classes to classify\n",
    "      Chans, Samples  : number of channels and time points in the EEG data\n",
    "      dropoutRate     : dropout fraction\n",
    "      kernLength      : length of temporal convolution in first layer. We found\n",
    "                        that setting this to be half the sampling rate worked\n",
    "                        well in practice. For the SMR dataset in particular\n",
    "                        since the data was high-passed at 4Hz we used a kernel\n",
    "                        length of 32.     \n",
    "      F1, F2          : number of temporal filters (F1) and number of pointwise\n",
    "                        filters (F2) to learn. Default: F1 = 8, F2 = F1 * D. \n",
    "      D               : number of spatial filters to learn within each temporal\n",
    "                        convolution. Default: D = 2\n",
    "      dropoutType     : Either SpatialDropout2D or Dropout, passed as a string.\n",
    "\n",
    "    \"\"\"\n",
    "    \n",
    "    if dropoutType == 'SpatialDropout2D':\n",
    "        dropoutType = SpatialDropout2D\n",
    "    elif dropoutType == 'Dropout':\n",
    "        dropoutType = Dropout\n",
    "    else:\n",
    "        raise ValueError('dropoutType must be one of SpatialDropout2D '\n",
    "                         'or Dropout, passed as a string.')\n",
    "    \n",
    "    input1   = Input(shape = (1, Chans, Samples))\n",
    "\n",
    "    ##################################################################\n",
    "    block1       = Conv2D(F1, (1, kernLength), padding = 'same',\n",
    "                                   input_shape = (1, Chans, Samples),\n",
    "                                   use_bias = False)(input1)\n",
    "    block1       = BatchNormalization(axis = 1)(block1)\n",
    "    block1       = DepthwiseConv2D((Chans, 1), use_bias = False, \n",
    "                                   depth_multiplier = D,\n",
    "                                   depthwise_constraint = max_norm(1.),\n",
    "                                  data_format='channels_first')(block1)\n",
    "    block1       = BatchNormalization(axis = 1)(block1)\n",
    "    block1       = Activation('elu')(block1)\n",
    "    block1       = AveragePooling2D((1, 4), data_format='channels_first')(block1)\n",
    "    block1       = dropoutType(dropoutRate)(block1)\n",
    "    \n",
    "    block2       = SeparableConv2D(F2, (1, 16),\n",
    "                                   use_bias = False, padding = 'same')(block1)\n",
    "    block2       = BatchNormalization(axis = 1)(block2)\n",
    "    block2       = Activation('elu')(block2)\n",
    "    block2       = AveragePooling2D((1, 8), data_format='channels_first')(block2)\n",
    "    block2       = dropoutType(dropoutRate)(block2)\n",
    "        \n",
    "    flatten      = Flatten(name = 'flatten')(block2)\n",
    "    \n",
    "    dense        = Dense(nb_classes, name = 'dense', \n",
    "                         kernel_constraint = max_norm(norm_rate))(flatten)\n",
    "    softmax      = Activation('softmax', name = 'softmax')(dense)\n",
    "    \n",
    "    return Model(inputs=input1, outputs=softmax)"
   ]
  },
  {
   "cell_type": "code",
   "execution_count": 24,
   "metadata": {},
   "outputs": [
    {
     "name": "stdout",
     "output_type": "stream",
     "text": [
      "training data shape: (2430, 1, 3, 1000)\n",
      "validation data shape: (810, 1, 3, 1000)\n",
      "testing data shape: (2160, 1, 3, 1000)\n",
      "(2430, 1) (810, 1)\n"
     ]
    }
   ],
   "source": [
    "subj, trial, channel, sample = train_data_list.shape\n",
    "X_train_valid = np.reshape(train_data_list, (-1, 1, channel, sample))\n",
    "X_test = np.reshape(test_data_list, (-1, 1, channel, sample))\n",
    "\n",
    "Y_train_valid = pd.read_csv('data/TrainLabels.csv', header = None).values\n",
    "split_thres = int(subj * trial * 0.25)\n",
    "X_train, X_valid = X_train_valid[split_thres:, :], X_train_valid[:split_thres, :]\n",
    "Y_train, Y_valid = Y_train_valid[split_thres:], Y_train_valid[:split_thres]\n",
    "\n",
    "print('training data shape: ' + str(X_train.shape))\n",
    "print('validation data shape: ' + str(X_valid.shape))\n",
    "print('testing data shape: ' + str(X_test.shape))\n",
    "print(Y_train.shape, Y_valid.shape)"
   ]
  },
  {
   "cell_type": "code",
   "execution_count": 25,
   "metadata": {},
   "outputs": [],
   "source": [
    "# configure EEGNET model\n",
    "model = EEGNet(nb_classes=2, Chans=channel, Samples=sample)\n",
    "\n",
    "# compile the model and set the optimizers\n",
    "#sgd = optimizers.SGD(lr=0.001, decay=1e-6, momentum=0.9, nesterov=True)\n",
    "\n",
    "model.compile(loss='sparse_categorical_crossentropy', optimizer='adam',\n",
    "              metrics=['accuracy'])"
   ]
  },
  {
   "cell_type": "code",
   "execution_count": 26,
   "metadata": {},
   "outputs": [
    {
     "name": "stdout",
     "output_type": "stream",
     "text": [
      "Model: \"functional_1\"\n",
      "_________________________________________________________________\n",
      "Layer (type)                 Output Shape              Param #   \n",
      "=================================================================\n",
      "input_1 (InputLayer)         [(None, 1, 3, 1000)]      0         \n",
      "_________________________________________________________________\n",
      "conv2d (Conv2D)              (None, 1, 3, 8)           512000    \n",
      "_________________________________________________________________\n",
      "batch_normalization (BatchNo (None, 1, 3, 8)           4         \n",
      "_________________________________________________________________\n",
      "depthwise_conv2d (DepthwiseC (None, 2, 1, 8)           6         \n",
      "_________________________________________________________________\n",
      "batch_normalization_1 (Batch (None, 2, 1, 8)           8         \n",
      "_________________________________________________________________\n",
      "activation (Activation)      (None, 2, 1, 8)           0         \n",
      "_________________________________________________________________\n",
      "average_pooling2d (AveragePo (None, 2, 1, 2)           0         \n",
      "_________________________________________________________________\n",
      "dropout (Dropout)            (None, 2, 1, 2)           0         \n",
      "_________________________________________________________________\n",
      "separable_conv2d (SeparableC (None, 2, 1, 16)          64        \n",
      "_________________________________________________________________\n",
      "batch_normalization_2 (Batch (None, 2, 1, 16)          8         \n",
      "_________________________________________________________________\n",
      "activation_1 (Activation)    (None, 2, 1, 16)          0         \n",
      "_________________________________________________________________\n",
      "average_pooling2d_1 (Average (None, 2, 1, 2)           0         \n",
      "_________________________________________________________________\n",
      "dropout_1 (Dropout)          (None, 2, 1, 2)           0         \n",
      "_________________________________________________________________\n",
      "flatten (Flatten)            (None, 4)                 0         \n",
      "_________________________________________________________________\n",
      "dense (Dense)                (None, 2)                 10        \n",
      "_________________________________________________________________\n",
      "softmax (Activation)         (None, 2)                 0         \n",
      "=================================================================\n",
      "Total params: 512,100\n",
      "Trainable params: 512,090\n",
      "Non-trainable params: 10\n",
      "_________________________________________________________________\n"
     ]
    }
   ],
   "source": [
    "model.summary()"
   ]
  },
  {
   "cell_type": "markdown",
   "metadata": {},
   "source": [
    "# set a valid path for your system to record model checkpoints\n",
    "checkpointer = ModelCheckpoint(filepath='/tmp/checkpoint.h5', verbose=1,\n",
    "                               save_best_only=True)\n",
    "# Weighted loss\n",
    "weight_0 = 1/(len([y for y in Y_train_valid if y == 0]))\n",
    "weight_1 = 1/(len([y for y in Y_train_valid if y == 1]))\n",
    "class_weights = {0: weight_0, 1: weight_1}\n",
    "\n",
    "#\n",
    "# # fit the model\n",
    "fittedModel = model.fit(X_train, Y_train, batch_size=32, epochs=100,\n",
    "        verbose=2, validation_data=(X_valid, Y_valid),\n",
    "        callbacks=[checkpointer], class_weight=class_weights)"
   ]
  },
  {
   "cell_type": "code",
   "execution_count": null,
   "metadata": {},
   "outputs": [],
   "source": []
  },
  {
   "cell_type": "code",
   "execution_count": 28,
   "metadata": {},
   "outputs": [],
   "source": [
    "# print(\"# GPUs Available: \", len(tf.config.experimental.list_physical_devices('GPU')))"
   ]
  },
  {
   "cell_type": "code",
   "execution_count": null,
   "metadata": {},
   "outputs": [],
   "source": []
  },
  {
   "cell_type": "code",
   "execution_count": null,
   "metadata": {},
   "outputs": [],
   "source": []
  }
 ],
 "metadata": {
  "kernelspec": {
   "display_name": "Python 3",
   "language": "python",
   "name": "python3"
  },
  "language_info": {
   "codemirror_mode": {
    "name": "ipython",
    "version": 3
   },
   "file_extension": ".py",
   "mimetype": "text/x-python",
   "name": "python",
   "nbconvert_exporter": "python",
   "pygments_lexer": "ipython3",
   "version": "3.7.6"
  }
 },
 "nbformat": 4,
 "nbformat_minor": 4
}
