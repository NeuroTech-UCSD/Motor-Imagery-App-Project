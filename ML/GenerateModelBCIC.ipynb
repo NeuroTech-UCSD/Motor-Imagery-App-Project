{
 "cells": [
  {
   "cell_type": "code",
   "execution_count": 1,
   "metadata": {},
   "outputs": [],
   "source": [
    "import os\n",
    "import sys\n",
    "import time\n",
    "import pandas as pd\n",
    "import numpy as np\n",
    "from os import listdir\n",
    "from generate_epoch import * # make sure to have this file inside the ML folder\n",
    "from scipy.signal import butter, sosfiltfilt, sosfreqz  # for filtering\n",
    "from neurodsp import filt\n",
    "import random\n",
    "import biosig\n",
    "import json\n",
    "from mne.channels import make_standard_montage\n",
    "from mne.io import concatenate_raws, read_raw_gdf\n",
    "# for models:\n",
    "from pyriemann.estimation import XdawnCovariances\n",
    "from pyriemann.tangentspace import TangentSpace\n",
    "from sklearn.linear_model import LogisticRegression\n",
    "from sklearn.discriminant_analysis import LinearDiscriminantAnalysis\n",
    "\n",
    "from sklearn.metrics import classification_report\n",
    "import pyeeg\n",
    "from sklearn.metrics import accuracy_score"
   ]
  },
  {
   "cell_type": "code",
   "execution_count": 2,
   "metadata": {},
   "outputs": [],
   "source": [
    "sample_data_folder = 'BCICIV_2b_gdf'\n",
    "sample_data_raw_files = os.listdir(sample_data_folder)\n",
    "sample_data_raw_files = [sample_data_folder + '/' + i for i in sample_data_raw_files if '.gdf' in i] \n",
    "sample_data_raw_files_train = [i for i in sample_data_raw_files if 'T' in i] \n",
    "sample_data_raw_files_test = [i for i in sample_data_raw_files if 'E' in i]\n",
    "sample_data_raw_files_train.sort()\n",
    "sample_data_raw_files_test.sort()"
   ]
  },
  {
   "cell_type": "code",
   "execution_count": 3,
   "metadata": {},
   "outputs": [
    {
     "name": "stdout",
     "output_type": "stream",
     "text": [
      "Extracting EDF parameters from /Users/simonfei/Motor-Imagery-App-Project/ML/BCICIV_2b_gdf/B0101T.gdf...\n",
      "GDF file detected\n",
      "Setting channel info structure...\n",
      "Creating raw.info structure...\n",
      "Reading 0 ... 604802  =      0.000 ...  2419.208 secs...\n"
     ]
    },
    {
     "name": "stderr",
     "output_type": "stream",
     "text": [
      "/Users/simonfei/opt/anaconda3/lib/python3.7/site-packages/mne/io/edf/edf.py:1000: DeprecationWarning: The binary mode of fromstring is deprecated, as it behaves surprisingly on unicode inputs. Use frombuffer instead\n",
      "  etmode = np.fromstring(etmode, np.uint8).tolist()[0]\n"
     ]
    },
    {
     "name": "stdout",
     "output_type": "stream",
     "text": [
      "Extracting EDF parameters from /Users/simonfei/Motor-Imagery-App-Project/ML/BCICIV_2b_gdf/B0102T.gdf...\n",
      "GDF file detected\n",
      "Setting channel info structure...\n",
      "Creating raw.info structure...\n",
      "Reading 0 ... 552451  =      0.000 ...  2209.804 secs...\n"
     ]
    },
    {
     "name": "stderr",
     "output_type": "stream",
     "text": [
      "/Users/simonfei/opt/anaconda3/lib/python3.7/site-packages/mne/io/edf/edf.py:1000: DeprecationWarning: The binary mode of fromstring is deprecated, as it behaves surprisingly on unicode inputs. Use frombuffer instead\n",
      "  etmode = np.fromstring(etmode, np.uint8).tolist()[0]\n"
     ]
    },
    {
     "name": "stdout",
     "output_type": "stream",
     "text": [
      "Extracting EDF parameters from /Users/simonfei/Motor-Imagery-App-Project/ML/BCICIV_2b_gdf/B0103T.gdf...\n",
      "GDF file detected\n",
      "Setting channel info structure...\n",
      "Creating raw.info structure...\n",
      "Reading 0 ... 469010  =      0.000 ...  1876.040 secs...\n"
     ]
    },
    {
     "name": "stderr",
     "output_type": "stream",
     "text": [
      "/Users/simonfei/opt/anaconda3/lib/python3.7/site-packages/mne/io/edf/edf.py:1000: DeprecationWarning: The binary mode of fromstring is deprecated, as it behaves surprisingly on unicode inputs. Use frombuffer instead\n",
      "  etmode = np.fromstring(etmode, np.uint8).tolist()[0]\n"
     ]
    },
    {
     "name": "stdout",
     "output_type": "stream",
     "text": [
      "Extracting EDF parameters from /Users/simonfei/Motor-Imagery-App-Project/ML/BCICIV_2b_gdf/B0201T.gdf...\n",
      "GDF file detected\n",
      "Setting channel info structure...\n",
      "Creating raw.info structure...\n",
      "Reading 0 ... 604802  =      0.000 ...  2419.208 secs...\n"
     ]
    },
    {
     "name": "stderr",
     "output_type": "stream",
     "text": [
      "/Users/simonfei/opt/anaconda3/lib/python3.7/site-packages/mne/io/edf/edf.py:1000: DeprecationWarning: The binary mode of fromstring is deprecated, as it behaves surprisingly on unicode inputs. Use frombuffer instead\n",
      "  etmode = np.fromstring(etmode, np.uint8).tolist()[0]\n"
     ]
    },
    {
     "name": "stdout",
     "output_type": "stream",
     "text": [
      "Extracting EDF parameters from /Users/simonfei/Motor-Imagery-App-Project/ML/BCICIV_2b_gdf/B0202T.gdf...\n",
      "GDF file detected\n",
      "Setting channel info structure...\n",
      "Creating raw.info structure...\n",
      "Reading 0 ... 604802  =      0.000 ...  2419.208 secs...\n"
     ]
    },
    {
     "name": "stderr",
     "output_type": "stream",
     "text": [
      "/Users/simonfei/opt/anaconda3/lib/python3.7/site-packages/mne/io/edf/edf.py:1000: DeprecationWarning: The binary mode of fromstring is deprecated, as it behaves surprisingly on unicode inputs. Use frombuffer instead\n",
      "  etmode = np.fromstring(etmode, np.uint8).tolist()[0]\n"
     ]
    },
    {
     "name": "stdout",
     "output_type": "stream",
     "text": [
      "Extracting EDF parameters from /Users/simonfei/Motor-Imagery-App-Project/ML/BCICIV_2b_gdf/B0203T.gdf...\n",
      "GDF file detected\n",
      "Setting channel info structure...\n",
      "Creating raw.info structure...\n",
      "Reading 0 ... 464154  =      0.000 ...  1856.616 secs...\n"
     ]
    },
    {
     "name": "stderr",
     "output_type": "stream",
     "text": [
      "/Users/simonfei/opt/anaconda3/lib/python3.7/site-packages/mne/io/edf/edf.py:1000: DeprecationWarning: The binary mode of fromstring is deprecated, as it behaves surprisingly on unicode inputs. Use frombuffer instead\n",
      "  etmode = np.fromstring(etmode, np.uint8).tolist()[0]\n"
     ]
    },
    {
     "name": "stdout",
     "output_type": "stream",
     "text": [
      "Extracting EDF parameters from /Users/simonfei/Motor-Imagery-App-Project/ML/BCICIV_2b_gdf/B0301T.gdf...\n",
      "GDF file detected\n",
      "Setting channel info structure...\n",
      "Creating raw.info structure...\n",
      "Reading 0 ... 604802  =      0.000 ...  2419.208 secs...\n"
     ]
    },
    {
     "name": "stderr",
     "output_type": "stream",
     "text": [
      "/Users/simonfei/opt/anaconda3/lib/python3.7/site-packages/mne/io/edf/edf.py:1000: DeprecationWarning: The binary mode of fromstring is deprecated, as it behaves surprisingly on unicode inputs. Use frombuffer instead\n",
      "  etmode = np.fromstring(etmode, np.uint8).tolist()[0]\n"
     ]
    },
    {
     "name": "stdout",
     "output_type": "stream",
     "text": [
      "Extracting EDF parameters from /Users/simonfei/Motor-Imagery-App-Project/ML/BCICIV_2b_gdf/B0302T.gdf...\n",
      "GDF file detected\n",
      "Setting channel info structure...\n",
      "Creating raw.info structure...\n",
      "Reading 0 ... 604802  =      0.000 ...  2419.208 secs...\n"
     ]
    },
    {
     "name": "stderr",
     "output_type": "stream",
     "text": [
      "/Users/simonfei/opt/anaconda3/lib/python3.7/site-packages/mne/io/edf/edf.py:1000: DeprecationWarning: The binary mode of fromstring is deprecated, as it behaves surprisingly on unicode inputs. Use frombuffer instead\n",
      "  etmode = np.fromstring(etmode, np.uint8).tolist()[0]\n"
     ]
    },
    {
     "name": "stdout",
     "output_type": "stream",
     "text": [
      "Extracting EDF parameters from /Users/simonfei/Motor-Imagery-App-Project/ML/BCICIV_2b_gdf/B0303T.gdf...\n",
      "GDF file detected\n",
      "Setting channel info structure...\n",
      "Creating raw.info structure...\n",
      "Reading 0 ... 464674  =      0.000 ...  1858.696 secs...\n"
     ]
    },
    {
     "name": "stderr",
     "output_type": "stream",
     "text": [
      "/Users/simonfei/opt/anaconda3/lib/python3.7/site-packages/mne/io/edf/edf.py:1000: DeprecationWarning: The binary mode of fromstring is deprecated, as it behaves surprisingly on unicode inputs. Use frombuffer instead\n",
      "  etmode = np.fromstring(etmode, np.uint8).tolist()[0]\n"
     ]
    },
    {
     "name": "stdout",
     "output_type": "stream",
     "text": [
      "Extracting EDF parameters from /Users/simonfei/Motor-Imagery-App-Project/ML/BCICIV_2b_gdf/B0401T.gdf...\n",
      "GDF file detected\n",
      "Setting channel info structure...\n",
      "Creating raw.info structure...\n",
      "Reading 0 ... 604802  =      0.000 ...  2419.208 secs...\n"
     ]
    },
    {
     "name": "stderr",
     "output_type": "stream",
     "text": [
      "/Users/simonfei/opt/anaconda3/lib/python3.7/site-packages/mne/io/edf/edf.py:1000: DeprecationWarning: The binary mode of fromstring is deprecated, as it behaves surprisingly on unicode inputs. Use frombuffer instead\n",
      "  etmode = np.fromstring(etmode, np.uint8).tolist()[0]\n"
     ]
    },
    {
     "name": "stdout",
     "output_type": "stream",
     "text": [
      "Extracting EDF parameters from /Users/simonfei/Motor-Imagery-App-Project/ML/BCICIV_2b_gdf/B0402T.gdf...\n",
      "GDF file detected\n",
      "Setting channel info structure...\n",
      "Creating raw.info structure...\n",
      "Reading 0 ... 696265  =      0.000 ...  2785.060 secs...\n"
     ]
    },
    {
     "name": "stderr",
     "output_type": "stream",
     "text": [
      "/Users/simonfei/opt/anaconda3/lib/python3.7/site-packages/mne/io/edf/edf.py:1000: DeprecationWarning: The binary mode of fromstring is deprecated, as it behaves surprisingly on unicode inputs. Use frombuffer instead\n",
      "  etmode = np.fromstring(etmode, np.uint8).tolist()[0]\n"
     ]
    },
    {
     "name": "stdout",
     "output_type": "stream",
     "text": [
      "Extracting EDF parameters from /Users/simonfei/Motor-Imagery-App-Project/ML/BCICIV_2b_gdf/B0403T.gdf...\n",
      "GDF file detected\n",
      "Setting channel info structure...\n",
      "Creating raw.info structure...\n",
      "Reading 0 ... 468558  =      0.000 ...  1874.232 secs...\n"
     ]
    },
    {
     "name": "stderr",
     "output_type": "stream",
     "text": [
      "/Users/simonfei/opt/anaconda3/lib/python3.7/site-packages/mne/io/edf/edf.py:1000: DeprecationWarning: The binary mode of fromstring is deprecated, as it behaves surprisingly on unicode inputs. Use frombuffer instead\n",
      "  etmode = np.fromstring(etmode, np.uint8).tolist()[0]\n"
     ]
    },
    {
     "name": "stdout",
     "output_type": "stream",
     "text": [
      "Extracting EDF parameters from /Users/simonfei/Motor-Imagery-App-Project/ML/BCICIV_2b_gdf/B0501T.gdf...\n",
      "GDF file detected\n",
      "Setting channel info structure...\n",
      "Creating raw.info structure...\n",
      "Reading 0 ... 604802  =      0.000 ...  2419.208 secs...\n"
     ]
    },
    {
     "name": "stderr",
     "output_type": "stream",
     "text": [
      "/Users/simonfei/opt/anaconda3/lib/python3.7/site-packages/mne/io/edf/edf.py:1000: DeprecationWarning: The binary mode of fromstring is deprecated, as it behaves surprisingly on unicode inputs. Use frombuffer instead\n",
      "  etmode = np.fromstring(etmode, np.uint8).tolist()[0]\n"
     ]
    },
    {
     "name": "stdout",
     "output_type": "stream",
     "text": [
      "Extracting EDF parameters from /Users/simonfei/Motor-Imagery-App-Project/ML/BCICIV_2b_gdf/B0502T.gdf...\n",
      "GDF file detected\n",
      "Setting channel info structure...\n",
      "Creating raw.info structure...\n",
      "Reading 0 ... 696265  =      0.000 ...  2785.060 secs...\n"
     ]
    },
    {
     "name": "stderr",
     "output_type": "stream",
     "text": [
      "/Users/simonfei/opt/anaconda3/lib/python3.7/site-packages/mne/io/edf/edf.py:1000: DeprecationWarning: The binary mode of fromstring is deprecated, as it behaves surprisingly on unicode inputs. Use frombuffer instead\n",
      "  etmode = np.fromstring(etmode, np.uint8).tolist()[0]\n"
     ]
    },
    {
     "name": "stdout",
     "output_type": "stream",
     "text": [
      "Extracting EDF parameters from /Users/simonfei/Motor-Imagery-App-Project/ML/BCICIV_2b_gdf/B0503T.gdf...\n",
      "GDF file detected\n",
      "Setting channel info structure...\n",
      "Creating raw.info structure...\n",
      "Reading 0 ... 461874  =      0.000 ...  1847.496 secs...\n"
     ]
    },
    {
     "name": "stderr",
     "output_type": "stream",
     "text": [
      "/Users/simonfei/opt/anaconda3/lib/python3.7/site-packages/mne/io/edf/edf.py:1000: DeprecationWarning: The binary mode of fromstring is deprecated, as it behaves surprisingly on unicode inputs. Use frombuffer instead\n",
      "  etmode = np.fromstring(etmode, np.uint8).tolist()[0]\n"
     ]
    },
    {
     "name": "stdout",
     "output_type": "stream",
     "text": [
      "Extracting EDF parameters from /Users/simonfei/Motor-Imagery-App-Project/ML/BCICIV_2b_gdf/B0601T.gdf...\n",
      "GDF file detected\n",
      "Setting channel info structure...\n",
      "Creating raw.info structure...\n",
      "Reading 0 ... 604802  =      0.000 ...  2419.208 secs...\n"
     ]
    },
    {
     "name": "stderr",
     "output_type": "stream",
     "text": [
      "/Users/simonfei/opt/anaconda3/lib/python3.7/site-packages/mne/io/edf/edf.py:1000: DeprecationWarning: The binary mode of fromstring is deprecated, as it behaves surprisingly on unicode inputs. Use frombuffer instead\n",
      "  etmode = np.fromstring(etmode, np.uint8).tolist()[0]\n"
     ]
    },
    {
     "name": "stdout",
     "output_type": "stream",
     "text": [
      "Extracting EDF parameters from /Users/simonfei/Motor-Imagery-App-Project/ML/BCICIV_2b_gdf/B0602T.gdf...\n",
      "GDF file detected\n",
      "Setting channel info structure...\n",
      "Creating raw.info structure...\n",
      "Reading 0 ... 604802  =      0.000 ...  2419.208 secs...\n"
     ]
    },
    {
     "name": "stderr",
     "output_type": "stream",
     "text": [
      "/Users/simonfei/opt/anaconda3/lib/python3.7/site-packages/mne/io/edf/edf.py:1000: DeprecationWarning: The binary mode of fromstring is deprecated, as it behaves surprisingly on unicode inputs. Use frombuffer instead\n",
      "  etmode = np.fromstring(etmode, np.uint8).tolist()[0]\n"
     ]
    },
    {
     "name": "stdout",
     "output_type": "stream",
     "text": [
      "Extracting EDF parameters from /Users/simonfei/Motor-Imagery-App-Project/ML/BCICIV_2b_gdf/B0603T.gdf...\n",
      "GDF file detected\n",
      "Setting channel info structure...\n",
      "Creating raw.info structure...\n",
      "Reading 0 ... 470390  =      0.000 ...  1881.560 secs...\n"
     ]
    },
    {
     "name": "stderr",
     "output_type": "stream",
     "text": [
      "/Users/simonfei/opt/anaconda3/lib/python3.7/site-packages/mne/io/edf/edf.py:1000: DeprecationWarning: The binary mode of fromstring is deprecated, as it behaves surprisingly on unicode inputs. Use frombuffer instead\n",
      "  etmode = np.fromstring(etmode, np.uint8).tolist()[0]\n"
     ]
    },
    {
     "name": "stdout",
     "output_type": "stream",
     "text": [
      "Extracting EDF parameters from /Users/simonfei/Motor-Imagery-App-Project/ML/BCICIV_2b_gdf/B0701T.gdf...\n",
      "GDF file detected\n",
      "Setting channel info structure...\n",
      "Creating raw.info structure...\n",
      "Reading 0 ... 604802  =      0.000 ...  2419.208 secs...\n"
     ]
    },
    {
     "name": "stderr",
     "output_type": "stream",
     "text": [
      "/Users/simonfei/opt/anaconda3/lib/python3.7/site-packages/mne/io/edf/edf.py:1000: DeprecationWarning: The binary mode of fromstring is deprecated, as it behaves surprisingly on unicode inputs. Use frombuffer instead\n",
      "  etmode = np.fromstring(etmode, np.uint8).tolist()[0]\n"
     ]
    },
    {
     "name": "stdout",
     "output_type": "stream",
     "text": [
      "Extracting EDF parameters from /Users/simonfei/Motor-Imagery-App-Project/ML/BCICIV_2b_gdf/B0702T.gdf...\n",
      "GDF file detected\n",
      "Setting channel info structure...\n",
      "Creating raw.info structure...\n",
      "Reading 0 ... 604802  =      0.000 ...  2419.208 secs...\n"
     ]
    },
    {
     "name": "stderr",
     "output_type": "stream",
     "text": [
      "/Users/simonfei/opt/anaconda3/lib/python3.7/site-packages/mne/io/edf/edf.py:1000: DeprecationWarning: The binary mode of fromstring is deprecated, as it behaves surprisingly on unicode inputs. Use frombuffer instead\n",
      "  etmode = np.fromstring(etmode, np.uint8).tolist()[0]\n"
     ]
    },
    {
     "name": "stdout",
     "output_type": "stream",
     "text": [
      "Extracting EDF parameters from /Users/simonfei/Motor-Imagery-App-Project/ML/BCICIV_2b_gdf/B0703T.gdf...\n",
      "GDF file detected\n",
      "Setting channel info structure...\n",
      "Creating raw.info structure...\n",
      "Reading 0 ... 466726  =      0.000 ...  1866.904 secs...\n"
     ]
    },
    {
     "name": "stderr",
     "output_type": "stream",
     "text": [
      "/Users/simonfei/opt/anaconda3/lib/python3.7/site-packages/mne/io/edf/edf.py:1000: DeprecationWarning: The binary mode of fromstring is deprecated, as it behaves surprisingly on unicode inputs. Use frombuffer instead\n",
      "  etmode = np.fromstring(etmode, np.uint8).tolist()[0]\n"
     ]
    },
    {
     "name": "stdout",
     "output_type": "stream",
     "text": [
      "Extracting EDF parameters from /Users/simonfei/Motor-Imagery-App-Project/ML/BCICIV_2b_gdf/B0801T.gdf...\n",
      "GDF file detected\n",
      "Setting channel info structure...\n",
      "Creating raw.info structure...\n",
      "Reading 0 ... 787728  =      0.000 ...  3150.912 secs...\n"
     ]
    },
    {
     "name": "stderr",
     "output_type": "stream",
     "text": [
      "/Users/simonfei/opt/anaconda3/lib/python3.7/site-packages/mne/io/edf/edf.py:1000: DeprecationWarning: The binary mode of fromstring is deprecated, as it behaves surprisingly on unicode inputs. Use frombuffer instead\n",
      "  etmode = np.fromstring(etmode, np.uint8).tolist()[0]\n"
     ]
    },
    {
     "name": "stdout",
     "output_type": "stream",
     "text": [
      "Extracting EDF parameters from /Users/simonfei/Motor-Imagery-App-Project/ML/BCICIV_2b_gdf/B0802T.gdf...\n",
      "GDF file detected\n",
      "Setting channel info structure...\n",
      "Creating raw.info structure...\n",
      "Reading 0 ... 604802  =      0.000 ...  2419.208 secs...\n"
     ]
    },
    {
     "name": "stderr",
     "output_type": "stream",
     "text": [
      "/Users/simonfei/opt/anaconda3/lib/python3.7/site-packages/mne/io/edf/edf.py:1000: DeprecationWarning: The binary mode of fromstring is deprecated, as it behaves surprisingly on unicode inputs. Use frombuffer instead\n",
      "  etmode = np.fromstring(etmode, np.uint8).tolist()[0]\n"
     ]
    },
    {
     "name": "stdout",
     "output_type": "stream",
     "text": [
      "Extracting EDF parameters from /Users/simonfei/Motor-Imagery-App-Project/ML/BCICIV_2b_gdf/B0803T.gdf...\n",
      "GDF file detected\n",
      "Setting channel info structure...\n",
      "Creating raw.info structure...\n",
      "Reading 0 ... 474834  =      0.000 ...  1899.336 secs...\n"
     ]
    },
    {
     "name": "stderr",
     "output_type": "stream",
     "text": [
      "/Users/simonfei/opt/anaconda3/lib/python3.7/site-packages/mne/io/edf/edf.py:1000: DeprecationWarning: The binary mode of fromstring is deprecated, as it behaves surprisingly on unicode inputs. Use frombuffer instead\n",
      "  etmode = np.fromstring(etmode, np.uint8).tolist()[0]\n"
     ]
    },
    {
     "name": "stdout",
     "output_type": "stream",
     "text": [
      "Extracting EDF parameters from /Users/simonfei/Motor-Imagery-App-Project/ML/BCICIV_2b_gdf/B0901T.gdf...\n",
      "GDF file detected\n",
      "Setting channel info structure...\n",
      "Creating raw.info structure...\n",
      "Reading 0 ... 604802  =      0.000 ...  2419.208 secs...\n"
     ]
    },
    {
     "name": "stderr",
     "output_type": "stream",
     "text": [
      "/Users/simonfei/opt/anaconda3/lib/python3.7/site-packages/mne/io/edf/edf.py:1000: DeprecationWarning: The binary mode of fromstring is deprecated, as it behaves surprisingly on unicode inputs. Use frombuffer instead\n",
      "  etmode = np.fromstring(etmode, np.uint8).tolist()[0]\n"
     ]
    },
    {
     "name": "stdout",
     "output_type": "stream",
     "text": [
      "Extracting EDF parameters from /Users/simonfei/Motor-Imagery-App-Project/ML/BCICIV_2b_gdf/B0902T.gdf...\n",
      "GDF file detected\n",
      "Setting channel info structure...\n",
      "Creating raw.info structure...\n",
      "Reading 0 ... 604802  =      0.000 ...  2419.208 secs...\n"
     ]
    },
    {
     "name": "stderr",
     "output_type": "stream",
     "text": [
      "/Users/simonfei/opt/anaconda3/lib/python3.7/site-packages/mne/io/edf/edf.py:1000: DeprecationWarning: The binary mode of fromstring is deprecated, as it behaves surprisingly on unicode inputs. Use frombuffer instead\n",
      "  etmode = np.fromstring(etmode, np.uint8).tolist()[0]\n"
     ]
    },
    {
     "name": "stdout",
     "output_type": "stream",
     "text": [
      "Extracting EDF parameters from /Users/simonfei/Motor-Imagery-App-Project/ML/BCICIV_2b_gdf/B0903T.gdf...\n",
      "GDF file detected\n",
      "Setting channel info structure...\n",
      "Creating raw.info structure...\n",
      "Reading 0 ... 460730  =      0.000 ...  1842.920 secs...\n"
     ]
    },
    {
     "name": "stderr",
     "output_type": "stream",
     "text": [
      "/Users/simonfei/opt/anaconda3/lib/python3.7/site-packages/mne/io/edf/edf.py:1000: DeprecationWarning: The binary mode of fromstring is deprecated, as it behaves surprisingly on unicode inputs. Use frombuffer instead\n",
      "  etmode = np.fromstring(etmode, np.uint8).tolist()[0]\n"
     ]
    },
    {
     "name": "stdout",
     "output_type": "stream",
     "text": [
      "Extracting EDF parameters from /Users/simonfei/Motor-Imagery-App-Project/ML/BCICIV_2b_gdf/B0104E.gdf...\n",
      "GDF file detected\n",
      "Setting channel info structure...\n",
      "Creating raw.info structure...\n",
      "Reading 0 ... 466313  =      0.000 ...  1865.252 secs...\n"
     ]
    },
    {
     "name": "stderr",
     "output_type": "stream",
     "text": [
      "/Users/simonfei/opt/anaconda3/lib/python3.7/site-packages/mne/io/edf/edf.py:1000: DeprecationWarning: The binary mode of fromstring is deprecated, as it behaves surprisingly on unicode inputs. Use frombuffer instead\n",
      "  etmode = np.fromstring(etmode, np.uint8).tolist()[0]\n"
     ]
    },
    {
     "name": "stdout",
     "output_type": "stream",
     "text": [
      "Extracting EDF parameters from /Users/simonfei/Motor-Imagery-App-Project/ML/BCICIV_2b_gdf/B0105E.gdf...\n",
      "GDF file detected\n",
      "Setting channel info structure...\n",
      "Creating raw.info structure...\n",
      "Reading 0 ... 474362  =      0.000 ...  1897.448 secs...\n"
     ]
    },
    {
     "name": "stderr",
     "output_type": "stream",
     "text": [
      "/Users/simonfei/opt/anaconda3/lib/python3.7/site-packages/mne/io/edf/edf.py:1000: DeprecationWarning: The binary mode of fromstring is deprecated, as it behaves surprisingly on unicode inputs. Use frombuffer instead\n",
      "  etmode = np.fromstring(etmode, np.uint8).tolist()[0]\n"
     ]
    },
    {
     "name": "stdout",
     "output_type": "stream",
     "text": [
      "Extracting EDF parameters from /Users/simonfei/Motor-Imagery-App-Project/ML/BCICIV_2b_gdf/B0204E.gdf...\n",
      "GDF file detected\n",
      "Setting channel info structure...\n",
      "Creating raw.info structure...\n",
      "Reading 0 ... 361829  =      0.000 ...  1447.316 secs...\n"
     ]
    },
    {
     "name": "stderr",
     "output_type": "stream",
     "text": [
      "/Users/simonfei/opt/anaconda3/lib/python3.7/site-packages/mne/io/edf/edf.py:1000: DeprecationWarning: The binary mode of fromstring is deprecated, as it behaves surprisingly on unicode inputs. Use frombuffer instead\n",
      "  etmode = np.fromstring(etmode, np.uint8).tolist()[0]\n"
     ]
    },
    {
     "name": "stdout",
     "output_type": "stream",
     "text": [
      "Extracting EDF parameters from /Users/simonfei/Motor-Imagery-App-Project/ML/BCICIV_2b_gdf/B0205E.gdf...\n",
      "GDF file detected\n",
      "Setting channel info structure...\n",
      "Creating raw.info structure...\n",
      "Reading 0 ... 473686  =      0.000 ...  1894.744 secs...\n"
     ]
    },
    {
     "name": "stderr",
     "output_type": "stream",
     "text": [
      "/Users/simonfei/opt/anaconda3/lib/python3.7/site-packages/mne/io/edf/edf.py:1000: DeprecationWarning: The binary mode of fromstring is deprecated, as it behaves surprisingly on unicode inputs. Use frombuffer instead\n",
      "  etmode = np.fromstring(etmode, np.uint8).tolist()[0]\n"
     ]
    },
    {
     "name": "stdout",
     "output_type": "stream",
     "text": [
      "Extracting EDF parameters from /Users/simonfei/Motor-Imagery-App-Project/ML/BCICIV_2b_gdf/B0304E.gdf...\n",
      "GDF file detected\n",
      "Setting channel info structure...\n",
      "Creating raw.info structure...\n",
      "Reading 0 ... 464674  =      0.000 ...  1858.696 secs...\n"
     ]
    },
    {
     "name": "stderr",
     "output_type": "stream",
     "text": [
      "/Users/simonfei/opt/anaconda3/lib/python3.7/site-packages/mne/io/edf/edf.py:1000: DeprecationWarning: The binary mode of fromstring is deprecated, as it behaves surprisingly on unicode inputs. Use frombuffer instead\n",
      "  etmode = np.fromstring(etmode, np.uint8).tolist()[0]\n"
     ]
    },
    {
     "name": "stdout",
     "output_type": "stream",
     "text": [
      "Extracting EDF parameters from /Users/simonfei/Motor-Imagery-App-Project/ML/BCICIV_2b_gdf/B0305E.gdf...\n",
      "GDF file detected\n",
      "Setting channel info structure...\n",
      "Creating raw.info structure...\n",
      "Reading 0 ... 463618  =      0.000 ...  1854.472 secs...\n"
     ]
    },
    {
     "name": "stderr",
     "output_type": "stream",
     "text": [
      "/Users/simonfei/opt/anaconda3/lib/python3.7/site-packages/mne/io/edf/edf.py:1000: DeprecationWarning: The binary mode of fromstring is deprecated, as it behaves surprisingly on unicode inputs. Use frombuffer instead\n",
      "  etmode = np.fromstring(etmode, np.uint8).tolist()[0]\n"
     ]
    },
    {
     "name": "stdout",
     "output_type": "stream",
     "text": [
      "Extracting EDF parameters from /Users/simonfei/Motor-Imagery-App-Project/ML/BCICIV_2b_gdf/B0404E.gdf...\n",
      "GDF file detected\n",
      "Setting channel info structure...\n",
      "Creating raw.info structure...\n",
      "Reading 0 ... 467478  =      0.000 ...  1869.912 secs...\n"
     ]
    },
    {
     "name": "stderr",
     "output_type": "stream",
     "text": [
      "/Users/simonfei/opt/anaconda3/lib/python3.7/site-packages/mne/io/edf/edf.py:1000: DeprecationWarning: The binary mode of fromstring is deprecated, as it behaves surprisingly on unicode inputs. Use frombuffer instead\n",
      "  etmode = np.fromstring(etmode, np.uint8).tolist()[0]\n"
     ]
    },
    {
     "name": "stdout",
     "output_type": "stream",
     "text": [
      "Extracting EDF parameters from /Users/simonfei/Motor-Imagery-App-Project/ML/BCICIV_2b_gdf/B0405E.gdf...\n",
      "GDF file detected\n",
      "Setting channel info structure...\n",
      "Creating raw.info structure...\n",
      "Reading 0 ... 466050  =      0.000 ...  1864.200 secs...\n"
     ]
    },
    {
     "name": "stderr",
     "output_type": "stream",
     "text": [
      "/Users/simonfei/opt/anaconda3/lib/python3.7/site-packages/mne/io/edf/edf.py:1000: DeprecationWarning: The binary mode of fromstring is deprecated, as it behaves surprisingly on unicode inputs. Use frombuffer instead\n",
      "  etmode = np.fromstring(etmode, np.uint8).tolist()[0]\n"
     ]
    },
    {
     "name": "stdout",
     "output_type": "stream",
     "text": [
      "Extracting EDF parameters from /Users/simonfei/Motor-Imagery-App-Project/ML/BCICIV_2b_gdf/B0504E.gdf...\n",
      "GDF file detected\n",
      "Setting channel info structure...\n",
      "Creating raw.info structure...\n",
      "Reading 0 ... 417019  =      0.000 ...  1668.076 secs...\n"
     ]
    },
    {
     "name": "stderr",
     "output_type": "stream",
     "text": [
      "/Users/simonfei/opt/anaconda3/lib/python3.7/site-packages/mne/io/edf/edf.py:1000: DeprecationWarning: The binary mode of fromstring is deprecated, as it behaves surprisingly on unicode inputs. Use frombuffer instead\n",
      "  etmode = np.fromstring(etmode, np.uint8).tolist()[0]\n"
     ]
    },
    {
     "name": "stdout",
     "output_type": "stream",
     "text": [
      "Extracting EDF parameters from /Users/simonfei/Motor-Imagery-App-Project/ML/BCICIV_2b_gdf/B0505E.gdf...\n",
      "GDF file detected\n",
      "Setting channel info structure...\n",
      "Creating raw.info structure...\n",
      "Reading 0 ... 464958  =      0.000 ...  1859.832 secs...\n"
     ]
    },
    {
     "name": "stderr",
     "output_type": "stream",
     "text": [
      "/Users/simonfei/opt/anaconda3/lib/python3.7/site-packages/mne/io/edf/edf.py:1000: DeprecationWarning: The binary mode of fromstring is deprecated, as it behaves surprisingly on unicode inputs. Use frombuffer instead\n",
      "  etmode = np.fromstring(etmode, np.uint8).tolist()[0]\n"
     ]
    },
    {
     "name": "stdout",
     "output_type": "stream",
     "text": [
      "Extracting EDF parameters from /Users/simonfei/Motor-Imagery-App-Project/ML/BCICIV_2b_gdf/B0604E.gdf...\n",
      "GDF file detected\n",
      "Setting channel info structure...\n",
      "Creating raw.info structure...\n",
      "Reading 0 ... 469990  =      0.000 ...  1879.960 secs...\n"
     ]
    },
    {
     "name": "stderr",
     "output_type": "stream",
     "text": [
      "/Users/simonfei/opt/anaconda3/lib/python3.7/site-packages/mne/io/edf/edf.py:1000: DeprecationWarning: The binary mode of fromstring is deprecated, as it behaves surprisingly on unicode inputs. Use frombuffer instead\n",
      "  etmode = np.fromstring(etmode, np.uint8).tolist()[0]\n"
     ]
    },
    {
     "name": "stdout",
     "output_type": "stream",
     "text": [
      "Extracting EDF parameters from /Users/simonfei/Motor-Imagery-App-Project/ML/BCICIV_2b_gdf/B0605E.gdf...\n",
      "GDF file detected\n",
      "Setting channel info structure...\n",
      "Creating raw.info structure...\n",
      "Reading 0 ... 460902  =      0.000 ...  1843.608 secs...\n"
     ]
    },
    {
     "name": "stderr",
     "output_type": "stream",
     "text": [
      "/Users/simonfei/opt/anaconda3/lib/python3.7/site-packages/mne/io/edf/edf.py:1000: DeprecationWarning: The binary mode of fromstring is deprecated, as it behaves surprisingly on unicode inputs. Use frombuffer instead\n",
      "  etmode = np.fromstring(etmode, np.uint8).tolist()[0]\n"
     ]
    },
    {
     "name": "stdout",
     "output_type": "stream",
     "text": [
      "Extracting EDF parameters from /Users/simonfei/Motor-Imagery-App-Project/ML/BCICIV_2b_gdf/B0704E.gdf...\n",
      "GDF file detected\n",
      "Setting channel info structure...\n",
      "Creating raw.info structure...\n",
      "Reading 0 ... 470343  =      0.000 ...  1881.372 secs...\n"
     ]
    },
    {
     "name": "stderr",
     "output_type": "stream",
     "text": [
      "/Users/simonfei/opt/anaconda3/lib/python3.7/site-packages/mne/io/edf/edf.py:1000: DeprecationWarning: The binary mode of fromstring is deprecated, as it behaves surprisingly on unicode inputs. Use frombuffer instead\n",
      "  etmode = np.fromstring(etmode, np.uint8).tolist()[0]\n"
     ]
    },
    {
     "name": "stdout",
     "output_type": "stream",
     "text": [
      "Extracting EDF parameters from /Users/simonfei/Motor-Imagery-App-Project/ML/BCICIV_2b_gdf/B0705E.gdf...\n",
      "GDF file detected\n",
      "Setting channel info structure...\n",
      "Creating raw.info structure...\n",
      "Reading 0 ... 460894  =      0.000 ...  1843.576 secs...\n"
     ]
    },
    {
     "name": "stderr",
     "output_type": "stream",
     "text": [
      "/Users/simonfei/opt/anaconda3/lib/python3.7/site-packages/mne/io/edf/edf.py:1000: DeprecationWarning: The binary mode of fromstring is deprecated, as it behaves surprisingly on unicode inputs. Use frombuffer instead\n",
      "  etmode = np.fromstring(etmode, np.uint8).tolist()[0]\n"
     ]
    },
    {
     "name": "stdout",
     "output_type": "stream",
     "text": [
      "Extracting EDF parameters from /Users/simonfei/Motor-Imagery-App-Project/ML/BCICIV_2b_gdf/B0804E.gdf...\n",
      "GDF file detected\n",
      "Setting channel info structure...\n",
      "Creating raw.info structure...\n",
      "Reading 0 ... 474834  =      0.000 ...  1899.336 secs...\n"
     ]
    },
    {
     "name": "stderr",
     "output_type": "stream",
     "text": [
      "/Users/simonfei/opt/anaconda3/lib/python3.7/site-packages/mne/io/edf/edf.py:1000: DeprecationWarning: The binary mode of fromstring is deprecated, as it behaves surprisingly on unicode inputs. Use frombuffer instead\n",
      "  etmode = np.fromstring(etmode, np.uint8).tolist()[0]\n"
     ]
    },
    {
     "name": "stdout",
     "output_type": "stream",
     "text": [
      "Extracting EDF parameters from /Users/simonfei/Motor-Imagery-App-Project/ML/BCICIV_2b_gdf/B0805E.gdf...\n",
      "GDF file detected\n",
      "Setting channel info structure...\n",
      "Creating raw.info structure...\n",
      "Reading 0 ... 464306  =      0.000 ...  1857.224 secs...\n"
     ]
    },
    {
     "name": "stderr",
     "output_type": "stream",
     "text": [
      "/Users/simonfei/opt/anaconda3/lib/python3.7/site-packages/mne/io/edf/edf.py:1000: DeprecationWarning: The binary mode of fromstring is deprecated, as it behaves surprisingly on unicode inputs. Use frombuffer instead\n",
      "  etmode = np.fromstring(etmode, np.uint8).tolist()[0]\n"
     ]
    },
    {
     "name": "stdout",
     "output_type": "stream",
     "text": [
      "Extracting EDF parameters from /Users/simonfei/Motor-Imagery-App-Project/ML/BCICIV_2b_gdf/B0904E.gdf...\n",
      "GDF file detected\n",
      "Setting channel info structure...\n",
      "Creating raw.info structure...\n",
      "Reading 0 ... 466802  =      0.000 ...  1867.208 secs...\n"
     ]
    },
    {
     "name": "stderr",
     "output_type": "stream",
     "text": [
      "/Users/simonfei/opt/anaconda3/lib/python3.7/site-packages/mne/io/edf/edf.py:1000: DeprecationWarning: The binary mode of fromstring is deprecated, as it behaves surprisingly on unicode inputs. Use frombuffer instead\n",
      "  etmode = np.fromstring(etmode, np.uint8).tolist()[0]\n"
     ]
    },
    {
     "name": "stdout",
     "output_type": "stream",
     "text": [
      "Extracting EDF parameters from /Users/simonfei/Motor-Imagery-App-Project/ML/BCICIV_2b_gdf/B0905E.gdf...\n",
      "GDF file detected\n",
      "Setting channel info structure...\n",
      "Creating raw.info structure...\n",
      "Reading 0 ... 458570  =      0.000 ...  1834.280 secs...\n"
     ]
    },
    {
     "name": "stderr",
     "output_type": "stream",
     "text": [
      "/Users/simonfei/opt/anaconda3/lib/python3.7/site-packages/mne/io/edf/edf.py:1000: DeprecationWarning: The binary mode of fromstring is deprecated, as it behaves surprisingly on unicode inputs. Use frombuffer instead\n",
      "  etmode = np.fromstring(etmode, np.uint8).tolist()[0]\n"
     ]
    }
   ],
   "source": [
    "raws_train = [read_raw_gdf(f, preload=True) for f in sample_data_raw_files_train]\n",
    "raws_test = [read_raw_gdf(f, preload=True) for f in sample_data_raw_files_test]\n",
    "headers_train = [json.loads(biosig.header(f)) for f in sample_data_raw_files_train]\n",
    "headers_test = [json.loads(biosig.header(f)) for f in sample_data_raw_files_test]\n",
    "for r in raws_train:\n",
    "    r.set_channel_types({'EEG:C3':'eeg', 'EEG:Cz':'eeg', 'EEG:C4':'eeg', 'EOG:ch01':'eog', 'EOG:ch02': 'eog',\\\n",
    "                      'EOG:ch03':'eog'})\n",
    "    r.rename_channels({'EEG:C3':'C3', 'EEG:Cz':'Cz', 'EEG:C4':'C4'})\n",
    "    ten_twenty_montage = make_standard_montage('standard_1020')\n",
    "    r.set_montage(ten_twenty_montage)\n",
    "for r in raws_test:\n",
    "    r.set_channel_types({'EEG:C3':'eeg', 'EEG:Cz':'eeg', 'EEG:C4':'eeg', 'EOG:ch01':'eog', 'EOG:ch02': 'eog',\\\n",
    "                      'EOG:ch03':'eog'})\n",
    "    r.rename_channels({'EEG:C3':'C3', 'EEG:Cz':'Cz', 'EEG:C4':'C4'})\n",
    "    ten_twenty_montage = make_standard_montage('standard_1020')\n",
    "    r.set_montage(ten_twenty_montage)\n",
    "dfs_train = [r.to_data_frame() for r in raws_train]\n",
    "dfs_test = [r.to_data_frame() for r in raws_test]"
   ]
  },
  {
   "cell_type": "code",
   "execution_count": 4,
   "metadata": {},
   "outputs": [],
   "source": [
    "events_train = [i['EVENT'] for i in headers_train]\n",
    "events_test = [i['EVENT'] for i in headers_test]\n",
    "\n",
    "stims_train = []\n",
    "for event in events_train:\n",
    "    s = []\n",
    "    for e in event:\n",
    "        if e['TYP'] == '0x0301' or e['TYP'] == '0x0302':\n",
    "            s.append(e)\n",
    "    stims_train.append(s)\n",
    "    \n",
    "stims_test = []\n",
    "for event in events_test:\n",
    "    s = []\n",
    "    for e in event:\n",
    "        #if e['TYP'] == '0x0301' or e['TYP'] == '0x0302':\n",
    "        if e['TYP'] == '0x030f': #unknown cue\n",
    "            s.append(e)\n",
    "    stims_test.append(s)\n",
    "    \n",
    "stim_times_train = []\n",
    "for stims in stims_train:\n",
    "    st = []\n",
    "    for s in stims:\n",
    "        st.append(round(s['POS'] * 1000))\n",
    "    stim_times_train.append(st)\n",
    "\n",
    "stim_times_test = []\n",
    "for stims in stims_test:\n",
    "    st = []\n",
    "    for s in stims:\n",
    "        st.append(round(s['POS'] * 1000))\n",
    "    stim_times_test.append(st)\n",
    "    \n",
    "fbe_train = []\n",
    "for df in dfs_train:\n",
    "    fbe = []\n",
    "    for i in range(len(df)):\n",
    "        fbe.append(0)\n",
    "    fbe_train.append(fbe)\n",
    "\n",
    "for i in range(len(stim_times_train)):\n",
    "    fbe = fbe_train[i]\n",
    "    sts = stim_times_train[i]\n",
    "    for st in sts:\n",
    "        fbe[round(st/4)] = 1\n",
    "        \n",
    "fbe_test = []\n",
    "for df in dfs_test:\n",
    "    fbe = []\n",
    "    for i in range(len(df)):\n",
    "        fbe.append(0)\n",
    "    fbe_test.append(fbe)\n",
    "\n",
    "for i in range(len(stim_times_test)):\n",
    "    fbe = fbe_test[i]\n",
    "    sts = stim_times_test[i]\n",
    "    for st in sts:\n",
    "        fbe[round(st/4)] = 1\n",
    "\n",
    "for i in range(len(fbe_train)):\n",
    "    df = dfs_train[i]\n",
    "    fbe = fbe_train[i]\n",
    "    df['EventStart'] = fbe\n",
    "\n",
    "for i in range(len(fbe_test)):\n",
    "    df = dfs_test[i]\n",
    "    fbe = fbe_test[i]\n",
    "    df['EventStart'] = fbe"
   ]
  },
  {
   "cell_type": "code",
   "execution_count": 5,
   "metadata": {},
   "outputs": [],
   "source": [
    "sample_data_raw_csvs_train = [f[-10:-4] + '.csv' for f in sample_data_raw_files_train]\n",
    "sample_data_raw_csvs_test = [f[-10:-4] + '.csv' for f in sample_data_raw_files_test]\n",
    "for i in range(len(sample_data_raw_csvs_train)):\n",
    "    f = sample_data_raw_csvs_train[i]\n",
    "    dfs_train[i].to_csv('data/train/' + f, index = False)\n",
    "for i in range(len(sample_data_raw_csvs_test)):\n",
    "    f = sample_data_raw_csvs_test[i]\n",
    "    dfs_test[i].to_csv('data/test/' + f, index = False)\n",
    "labels_folder = 'data/y'\n",
    "label_files = os.listdir(labels_folder)\n",
    "label_files = [i for i in label_files if '.csv' in i]\n",
    "label_files = ['data/y/' + i for i in label_files]\n",
    "label_files_train = [i for i in label_files if 'T' in i]\n",
    "label_files_test = [i for i in label_files if 'E' in i]\n",
    "label_files_train.sort()\n",
    "label_files_test.sort()\n",
    "labels_train = [pd.read_csv(f, header = None) for f in label_files_train]\n",
    "labels_test = [pd.read_csv(f, header = None) for f in label_files_test]\n",
    "labels_train = [i[:120] for i in labels_train]\n",
    "labels_test = [i[:120] for i in labels_test]\n",
    "labels_train = pd.concat(labels_train)\n",
    "labels_test = pd.concat(labels_test)\n",
    "labels_train.to_csv('data/TrainLabels.csv', index = False, header = None)\n",
    "labels_test.to_csv('data/true_labels.csv', index = False, header = None)"
   ]
  },
  {
   "cell_type": "markdown",
   "metadata": {},
   "source": [
    "# epoching"
   ]
  },
  {
   "cell_type": "code",
   "execution_count": 6,
   "metadata": {},
   "outputs": [],
   "source": [
    "train_list_arr = np.array(sorted(listdir('data/train')))\n",
    "total_training_participant = 9\n",
    "trial_per_subj = 3 # 9 x 3 = 27 csv files in total\n",
    "train_list_arr = train_list_arr[1:]\n",
    "train_list_np = np.reshape(train_list_arr, (total_training_participant,trial_per_subj))\n",
    "test_list_arr = np.array(sorted(listdir('data/test')))\n",
    "total_testing_participant = 9\n",
    "test_trial_per_subj = 2\n",
    "test_list_arr = test_list_arr[1:]\n",
    "test_list_np = np.reshape(test_list_arr, (total_testing_participant,test_trial_per_subj))"
   ]
  },
  {
   "cell_type": "code",
   "execution_count": 7,
   "metadata": {},
   "outputs": [],
   "source": [
    "stimulus_per_subj = 360\n",
    "stimulus_per_subj_test = 240\n",
    "channels = ['C3','Cz','C4']\n",
    "epoch_s = 0\n",
    "epoch_e = 4000 #4 seconds\n",
    "fs = 250\n",
    "epoch_len = int((abs(epoch_s) + abs(epoch_e)) * (fs / 1000))\n",
    "train_data_list = np.empty((0, stimulus_per_subj, len(channels), epoch_len), float)\n",
    "test_data_list = np.empty((0, stimulus_per_subj_test, len(channels), epoch_len), float)"
   ]
  },
  {
   "cell_type": "code",
   "execution_count": 8,
   "metadata": {},
   "outputs": [],
   "source": [
    "def butter_bandpass_filter(data, lowcut, highcut, fs, order = 2):\n",
    "    return data"
   ]
  },
  {
   "cell_type": "code",
   "execution_count": 10,
   "metadata": {},
   "outputs": [
    {
     "name": "stdout",
     "output_type": "stream",
     "text": [
      "Epoched training data shape: (9, 360, 3, 1000)\n",
      "Epoched testing data shape: (9, 240, 3, 1000)\n",
      "(3240,)\n",
      "(2160,)\n"
     ]
    }
   ],
   "source": [
    "bl_s = -400\n",
    "bl_e = -300\n",
    "for training_participant_id in range(total_training_participant):\n",
    "    subject_dir_list = train_list_np[training_participant_id]\n",
    "    subject_epoch = np.empty((0, len(channels), epoch_len), float)\n",
    "    for trial_id in range(trial_per_subj):\n",
    "        subject_dir = subject_dir_list[trial_id]\n",
    "        data = generate_epoch(file_path = 'data/train/'+subject_dir, channels = channels, \\\n",
    "                              eeg_filter = butter_bandpass_filter, fs = fs, epoch_s = epoch_s, \\\n",
    "                              epoch_e = epoch_e, bl_s = bl_s, bl_e = bl_e)\n",
    "        subject_epoch = np.vstack((subject_epoch, data))\n",
    "    subject_epoch = np.reshape(subject_epoch, (1, stimulus_per_subj, len(channels), epoch_len))\n",
    "    train_data_list = np.vstack((train_data_list, subject_epoch))\n",
    "\n",
    "print('Epoched training data shape: '+ str(train_data_list.shape))\n",
    "\n",
    "for testing_participant_id in range(total_testing_participant):\n",
    "    subject_dir_list = test_list_np[testing_participant_id]\n",
    "    subject_epoch = np.empty((0, len(channels), epoch_len), float)\n",
    "    for trial_id in range(test_trial_per_subj):\n",
    "        subject_dir = subject_dir_list[trial_id]\n",
    "        data = generate_epoch(file_path = 'data/test/'+subject_dir, channels = channels, \\\n",
    "                              eeg_filter = butter_bandpass_filter, fs = fs, epoch_s = epoch_s, \\\n",
    "                              epoch_e = epoch_e, bl_s = bl_s, bl_e = bl_e)\n",
    "        subject_epoch = np.vstack((subject_epoch, data))\n",
    "    subject_epoch = np.reshape(subject_epoch, (1, stimulus_per_subj_test, len(channels), epoch_len))\n",
    "    test_data_list = np.vstack((test_data_list, subject_epoch))\n",
    "\n",
    "print('Epoched testing data shape: '+ str(test_data_list.shape))\n",
    "y = pd.read_csv('data/TrainLabels.csv', header = None)\n",
    "y = y.values.reshape(3240,)\n",
    "print(y.shape)\n",
    "yT = pd.read_csv('data/true_labels.csv', header = None) # put your train label path here\n",
    "yT = yT.values.reshape(2160,)\n",
    "print(yT.shape)"
   ]
  },
  {
   "cell_type": "markdown",
   "metadata": {},
   "source": [
    "# generateModel(X, Y)"
   ]
  },
  {
   "cell_type": "code",
   "execution_count": 18,
   "metadata": {
    "scrolled": true
   },
   "outputs": [],
   "source": [
    "X_train = train_data_list[0]\n",
    "X_test = test_data_list[0]\n",
    "Y_train = y[:360]\n",
    "Y_test = yT[:240]"
   ]
  },
  {
   "cell_type": "code",
   "execution_count": 19,
   "metadata": {},
   "outputs": [],
   "source": [
    "class myModel:\n",
    "    def __init__(self):\n",
    "        pass\n",
    "    def fit(X, Y):\n",
    "        pass\n",
    "    def predict(X):\n",
    "        pass\n",
    "    \n",
    "class XDawnLRModel(myModel): # XDAWN Covariance Preprocessing + Linear Regression Classifier\n",
    "    def __init__(self):\n",
    "        super().__init__()\n",
    "        self.XC = XdawnCovariances(nfilter = 1) # the number of filters can be changed\n",
    "        self.logreg = LogisticRegression()\n",
    "        \n",
    "    def fit(self, X, Y):\n",
    "        X_transformed = self.XC.fit_transform(X, Y)\n",
    "        X_transformed = TangentSpace(metric='riemann').fit_transform(X_transformed)\n",
    "        self.logreg.fit(X_transformed,Y)\n",
    "        \n",
    "    def predict(self, X):\n",
    "        X_transformed = self.XC.transform(X)\n",
    "        X_transformed = TangentSpace(metric='riemann').fit_transform(X_transformed)\n",
    "        return self.logreg.predict(X_transformed)\n",
    "\n",
    "model = XDawnLRModel()\n",
    "model.fit(X_train, Y_train)"
   ]
  },
  {
   "cell_type": "code",
   "execution_count": 20,
   "metadata": {},
   "outputs": [
    {
     "name": "stdout",
     "output_type": "stream",
     "text": [
      "              precision    recall  f1-score   support\n",
      "\n",
      "           1       0.53      0.50      0.52       120\n",
      "           2       0.53      0.56      0.54       120\n",
      "\n",
      "    accuracy                           0.53       240\n",
      "   macro avg       0.53      0.53      0.53       240\n",
      "weighted avg       0.53      0.53      0.53       240\n",
      "\n"
     ]
    }
   ],
   "source": [
    "Y_pred = model.predict(X_test)\n",
    "print(classification_report(Y_test, Y_pred))"
   ]
  },
  {
   "cell_type": "code",
   "execution_count": 21,
   "metadata": {},
   "outputs": [],
   "source": [
    "def getPowerRatio(eeg_data, binning, eeg_fs=250):\n",
    "    power, power_ratio = pyeeg.bin_power(eeg_data, binning, eeg_fs)\n",
    "    return np.array(power_ratio)\n",
    "def getIntervals(binning): \n",
    "    intervals = list()\n",
    "    for i, val in enumerate(binning[:-1]): \n",
    "        intervals.append((val, binning[i+1]))\n",
    "    return intervals"
   ]
  },
  {
   "cell_type": "code",
   "execution_count": 23,
   "metadata": {},
   "outputs": [],
   "source": [
    "sub_binning=[0.5, 4, 7, 12, 30]\n",
    "sub_intervals = getIntervals(sub_binning)\n",
    "power_ratio1=[getPowerRatio(data[:], sub_binning) for data in X_train[:,0,:]]\n",
    "power_ratio2=[getPowerRatio(data[:], sub_binning) for data in X_train[:,1,:]]\n",
    "power_ratio3=[getPowerRatio(data[:], sub_binning) for data in X_train[:,2,:]]\n",
    "\n",
    "power_ratiot1=[getPowerRatio(data[:], sub_binning) for data in X_test[:,0,:]]\n",
    "power_ratiot2=[getPowerRatio(data[:], sub_binning) for data in X_test[:,1,:]]\n",
    "power_ratiot3=[getPowerRatio(data[:], sub_binning) for data in X_test[:,2,:]]\n",
    "power_ratio = []\n",
    "for i,j,k in zip(power_ratio1,power_ratio2,power_ratio3):\n",
    "    power_ratio.append(np.concatenate([i,j,k], axis = 0))\n",
    "    \n",
    "power_ratiot = []\n",
    "for i,j,k in zip(power_ratiot1,power_ratiot2,power_ratiot3):\n",
    "    power_ratiot.append(np.concatenate([i,j,k], axis = 0))"
   ]
  },
  {
   "cell_type": "code",
   "execution_count": 24,
   "metadata": {},
   "outputs": [
    {
     "name": "stdout",
     "output_type": "stream",
     "text": [
      "              precision    recall  f1-score   support\n",
      "\n",
      "           1       0.61      0.53      0.57       120\n",
      "           2       0.59      0.66      0.62       120\n",
      "\n",
      "    accuracy                           0.60       240\n",
      "   macro avg       0.60      0.60      0.59       240\n",
      "weighted avg       0.60      0.60      0.59       240\n",
      "\n"
     ]
    }
   ],
   "source": [
    "model = LinearDiscriminantAnalysis()\n",
    "model.fit(power_ratio, Y_train)\n",
    "Y_pred = model.predict(power_ratiot)\n",
    "print(classification_report(Y_test, Y_pred))"
   ]
  },
  {
   "cell_type": "code",
   "execution_count": null,
   "metadata": {},
   "outputs": [],
   "source": []
  }
 ],
 "metadata": {
  "kernelspec": {
   "display_name": "Python 3",
   "language": "python",
   "name": "python3"
  },
  "language_info": {
   "codemirror_mode": {
    "name": "ipython",
    "version": 3
   },
   "file_extension": ".py",
   "mimetype": "text/x-python",
   "name": "python",
   "nbconvert_exporter": "python",
   "pygments_lexer": "ipython3",
   "version": "3.7.6"
  }
 },
 "nbformat": 4,
 "nbformat_minor": 4
}
