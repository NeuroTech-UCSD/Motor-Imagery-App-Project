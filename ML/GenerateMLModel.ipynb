{
 "cells": [
  {
   "cell_type": "code",
   "execution_count": 72,
   "metadata": {},
   "outputs": [],
   "source": [
    "import os\n",
    "import sys\n",
    "import time\n",
    "import pandas as pd\n",
    "import numpy as np\n",
    "from os import listdir\n",
    "from generate_epoch import * # make sure to have this file inside the ML folder\n",
    "from scipy.signal import butter, sosfiltfilt, sosfreqz  # for filtering\n",
    "from neurodsp import filt\n",
    "import random\n",
    "# for models:\n",
    "from pyriemann.estimation import XdawnCovariances\n",
    "from pyriemann.tangentspace import TangentSpace\n",
    "from sklearn.linear_model import LogisticRegression\n",
    "\n",
    "from sklearn.metrics import classification_report"
   ]
  },
  {
   "cell_type": "markdown",
   "metadata": {},
   "source": [
    "# getDataFrame\n",
    "### !!!Make sure to have consistent naming for both the eeg and event files as well as equal number of eeg and event files!!!"
   ]
  },
  {
   "cell_type": "code",
   "execution_count": 2,
   "metadata": {},
   "outputs": [],
   "source": [
    "data_folder = 'data'\n",
    "data_files = os.listdir(data_folder)\n",
    "data_files = [i for i in data_files if '.csv' in i]\n",
    "data_files_eeg = [i for i in data_files if 'eeg' in i]\n",
    "data_files_event = [i for i in data_files if 'event' in i]\n",
    "data_files_eeg.sort() # Make sure to have consistent naming for both the eeg and event files\n",
    "data_files_event.sort()\n",
    "data_eeg = [pd.read_csv('data/'+i) for i in data_files_eeg]\n",
    "data_event = [pd.read_csv('data/'+i) for i in data_files_event]\n",
    "\n",
    "total_participant = 1\n",
    "trial_per_subj = 3\n",
    "stimulus_per_subj = 120\n",
    "channels = ['C4','C2','C1','C3']\n",
    "epoch_s = 0 \n",
    "epoch_e = 4000 #4 seconds\n",
    "fs = 250\n",
    "epoch_len = int((abs(epoch_s) + abs(epoch_e)) * (fs / 1000))\n",
    "epoch_data = np.empty((0, stimulus_per_subj, len(channels), epoch_len), float)\n",
    "lowcut = 0.5\n",
    "highcut = 100\n",
    "bl_s = -400\n",
    "bl_e = -300"
   ]
  },
  {
   "cell_type": "code",
   "execution_count": 3,
   "metadata": {},
   "outputs": [],
   "source": [
    "for i in range(len(data_event)): # Convert event time into 4ms increment while matching with the eeg time\n",
    "    adjusted_time = []\n",
    "    for time in data_event[i]['timestamp']:\n",
    "        index = data_eeg[i].loc[data_eeg[i]['timestamp'] <= time].index.values[-1] # Pick the latest eeg time before the event time\n",
    "        adjusted_time.append(index * 4)\n",
    "    data_event[i]['timestamp'] = adjusted_time\n",
    "    data_event[i] = data_event[i].rename(columns={'timestamp' : 'time'})\n",
    "\n",
    "for i in range(len(data_eeg)):# Convert eeg time into 4ms increment\n",
    "    eeg = data_eeg[i]\n",
    "    eeg['timestamp'] = list(range(0,len(eeg)*4,4))\n",
    "    data_eeg[i] = data_eeg[i].rename(columns={'timestamp' : 'time'})\n",
    "    data_eeg[i] = data_eeg[i].rename(columns={'4':'C4', '5':'C2', '6':'C1', '7':'C3'})"
   ]
  },
  {
   "cell_type": "code",
   "execution_count": 4,
   "metadata": {},
   "outputs": [
    {
     "name": "stderr",
     "output_type": "stream",
     "text": [
      "/Users/simonfei/opt/anaconda3/lib/python3.7/site-packages/ipykernel_launcher.py:4: SettingWithCopyWarning: \n",
      "A value is trying to be set on a copy of a slice from a DataFrame.\n",
      "Try using .loc[row_indexer,col_indexer] = value instead\n",
      "\n",
      "See the caveats in the documentation: https://pandas.pydata.org/pandas-docs/stable/user_guide/indexing.html#returning-a-view-versus-a-copy\n",
      "  after removing the cwd from sys.path.\n"
     ]
    }
   ],
   "source": [
    "# Extract the labels from the events\n",
    "event_start = [event.loc[event['event'].str.contains('start')] for event in data_event]\n",
    "for es in event_start:\n",
    "    es['event'] = [int(i[-1]) for i in np.array(es['event'])]\n",
    "event_start_label = event_start\n",
    "event_start_label = [esl.drop('time', axis = 1) for esl in event_start_label]\n",
    "# Convert the labels into np arrays\n",
    "# labels = [esl.values.reshape(len(esl),) for esl in event_start_label]\n",
    "# labels = np.concatenate(labels, axis = None)\n",
    "for i in range(len(data_eeg)): # add 'EventStart' in eeg data\n",
    "    es = [0] * len(data_eeg[i])\n",
    "    sts = event_start[i]['time']\n",
    "    for st in sts:\n",
    "        es[round(st/4)] = 1\n",
    "    data_eeg[i]['EventStart'] = es\n",
    "\n",
    "# save csv in data/generate_epoch for the epoching step\n",
    "event_start_label = pd.concat(event_start_label)\n",
    "event_start_label.to_csv('data/generate_epoch_labels/Labels.csv', index = False, header = None)\n",
    "for i in range(len(data_eeg)):\n",
    "    f = 'EEG' + str(i+1) + '.csv'\n",
    "    data_eeg[i].to_csv('data/generate_epoch/' + f, index = False)"
   ]
  },
  {
   "cell_type": "code",
   "execution_count": 5,
   "metadata": {},
   "outputs": [],
   "source": [
    "data_list_arr = np.array(sorted(listdir('data/generate_epoch')))\n",
    "data_list_arr = data_list_arr[1:]\n",
    "data_list_np = np.reshape(data_list_arr, (total_participant,trial_per_subj))"
   ]
  },
  {
   "cell_type": "code",
   "execution_count": 6,
   "metadata": {},
   "outputs": [],
   "source": [
    "def bandpass_bandstop_filter(data,fs, lowcut, highcut, order = 2):\n",
    "    nyq = 0.5 * fs\n",
    "    low = lowcut / nyq\n",
    "    high = highcut / nyq\n",
    "    sos = butter(order, [low, high], analog = False, btype = 'band', output = 'sos')\n",
    "    filted_data = sosfiltfilt(sos, data)\n",
    "    filted_data = filt.filter_signal(filted_data, fs, 'bandstop', (58, 62), n_seconds=1)\n",
    "    filted_data = filted_data[~np.isnan(filted_data)]\n",
    "    return filted_data"
   ]
  },
  {
   "cell_type": "code",
   "execution_count": 7,
   "metadata": {},
   "outputs": [
    {
     "name": "stdout",
     "output_type": "stream",
     "text": [
      "Epoched data shape: (1, 120, 4, 1000)\n"
     ]
    }
   ],
   "source": [
    "for participant_id in range(total_participant):\n",
    "    subject_dir_list = data_list_np[participant_id]\n",
    "    subject_epoch = np.empty((0, len(channels), epoch_len), float)\n",
    "    for trial_id in range(trial_per_subj):\n",
    "        subject_dir = subject_dir_list[trial_id]\n",
    "        data = generate_epoch(file_path = 'data/generate_epoch/'+subject_dir, channels = channels, \\\n",
    "                              eeg_filter = bandpass_bandstop_filter, fs = fs, epoch_s = epoch_s, \\\n",
    "                              epoch_e = epoch_e, bl_s = bl_s, bl_e = bl_e)\n",
    "        subject_epoch = np.vstack((subject_epoch, data))\n",
    "    subject_epoch = np.reshape(subject_epoch, (1, stimulus_per_subj, len(channels), epoch_len))\n",
    "    epoch_data = np.vstack((epoch_data, subject_epoch))\n",
    "\n",
    "print('Epoched data shape: '+ str(epoch_data.shape))\n"
   ]
  },
  {
   "cell_type": "code",
   "execution_count": 28,
   "metadata": {},
   "outputs": [],
   "source": [
    "y = pd.read_csv('data/generate_epoch_labels/Labels.csv', header = None)\n",
    "y = y.values.reshape(len(y),)\n",
    "predf=np.array(list(zip(y, epoch_data[0]))) # alternatively use dstack to speed up the process"
   ]
  },
  {
   "cell_type": "code",
   "execution_count": 29,
   "metadata": {},
   "outputs": [],
   "source": [
    "df = pd.DataFrame(data=predf, columns=[\"Trial_Type\", \"EEG_data\"])"
   ]
  },
  {
   "cell_type": "code",
   "execution_count": 31,
   "metadata": {},
   "outputs": [],
   "source": [
    "# return df"
   ]
  },
  {
   "cell_type": "markdown",
   "metadata": {},
   "source": [
    "# getArrays\n",
    "### TODO: add function for reducing the number of trials while keeping the trial types balanced"
   ]
  },
  {
   "cell_type": "code",
   "execution_count": 75,
   "metadata": {},
   "outputs": [],
   "source": [
    "# params: ...\n",
    "# df = getDataframe(...)\n",
    "# default x_dur = X.shape[-1]\n",
    "Y = df['Trial_Type'].to_numpy()\n",
    "X = df['EEG_data'].to_numpy()\n",
    "X = np.stack(list(X), axis = 0)\n",
    "x_dur = X.shape[-1] # default\n",
    "\n",
    "# return X[:,:,x_dur], Y"
   ]
  },
  {
   "cell_type": "markdown",
   "metadata": {},
   "source": [
    "# generateModel(X, Y)"
   ]
  },
  {
   "cell_type": "code",
   "execution_count": 98,
   "metadata": {},
   "outputs": [],
   "source": [
    "#Default 4:1 split\n",
    "#Suffle\n",
    "temp=list(zip(Y, X))\n",
    "random.shuffle(temp)\n",
    "Y, X = zip(*temp)\n",
    "#Split train/test\n",
    "X_train = np.array(X[:int(len(X)*4/(4+1))])\n",
    "X_test = np.array(X[int(len(X)*4/(4+1)):])\n",
    "Y_train = np.array(Y[:int(len(Y)*4/(4+1))])\n",
    "Y_test = np.array(Y[int(len(Y)*4/(4+1)):])\n",
    "\n",
    "class myModel:\n",
    "    def __init__(self):\n",
    "        pass\n",
    "    def fit(X, Y):\n",
    "        pass\n",
    "    def predict(X):\n",
    "        pass\n",
    "    \n",
    "class XDawnLRModel(myModel): # XDAWN Covariance Preprocessing + Linear Regression Classifier\n",
    "    def __init__(self):\n",
    "        super().__init__()\n",
    "        self.XC = XdawnCovariances(nfilter = 1) # the number of filters can be changed\n",
    "        self.logreg = LogisticRegression()\n",
    "        \n",
    "    def fit(self, X, Y):\n",
    "        X_transformed = self.XC.fit_transform(X, Y)\n",
    "        X_transformed = TangentSpace(metric='riemann').fit_transform(X_transformed)\n",
    "        self.logreg.fit(X_transformed,Y)\n",
    "        \n",
    "    def predict(self, X):\n",
    "        X_transformed = self.XC.transform(X)\n",
    "        X_transformed = TangentSpace(metric='riemann').fit_transform(X_transformed)\n",
    "        return self.logreg.predict(X_transformed)\n",
    "\n",
    "model = XDawnLRModel()\n",
    "model.fit(X_train, Y_train)\n",
    "#return model"
   ]
  },
  {
   "cell_type": "code",
   "execution_count": 99,
   "metadata": {},
   "outputs": [
    {
     "name": "stdout",
     "output_type": "stream",
     "text": [
      "              precision    recall  f1-score   support\n",
      "\n",
      "           1       0.43      0.50      0.46         6\n",
      "           2       0.25      0.33      0.29         6\n",
      "           3       0.20      0.25      0.22         4\n",
      "           4       0.25      0.12      0.17         8\n",
      "\n",
      "    accuracy                           0.29        24\n",
      "   macro avg       0.28      0.30      0.28        24\n",
      "weighted avg       0.29      0.29      0.28        24\n",
      "\n"
     ]
    }
   ],
   "source": [
    "Y_pred = model.predict(X_test)\n",
    "print(classification_report(Y_test, Y_pred))"
   ]
  },
  {
   "cell_type": "code",
   "execution_count": null,
   "metadata": {},
   "outputs": [],
   "source": []
  },
  {
   "cell_type": "code",
   "execution_count": null,
   "metadata": {},
   "outputs": [],
   "source": []
  }
 ],
 "metadata": {
  "kernelspec": {
   "display_name": "Python 3",
   "language": "python",
   "name": "python3"
  },
  "language_info": {
   "codemirror_mode": {
    "name": "ipython",
    "version": 3
   },
   "file_extension": ".py",
   "mimetype": "text/x-python",
   "name": "python",
   "nbconvert_exporter": "python",
   "pygments_lexer": "ipython3",
   "version": "3.7.6"
  }
 },
 "nbformat": 4,
 "nbformat_minor": 4
}
