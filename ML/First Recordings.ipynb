{
 "cells": [
  {
   "cell_type": "markdown",
   "metadata": {},
   "source": [
    "# Format Conversion"
   ]
  },
  {
   "cell_type": "code",
   "execution_count": null,
   "metadata": {},
   "outputs": [],
   "source": [
    "import os\n",
    "import sys\n",
    "import time\n",
    "import pandas as pd\n",
    "import numpy as np"
   ]
  },
  {
   "cell_type": "code",
   "execution_count": null,
   "metadata": {},
   "outputs": [],
   "source": [
    "data_folder = 'data'\n",
    "data_files = os.listdir(data_folder)\n",
    "data_files = [i for i in data_files if '.csv' in i]\n",
    "data_files_eeg = [i for i in data_files if 'eeg' in i]\n",
    "data_files_event = [i for i in data_files if 'event' in i]\n",
    "data_files_eeg.sort()\n",
    "data_files_event.sort()"
   ]
  },
  {
   "cell_type": "code",
   "execution_count": null,
   "metadata": {},
   "outputs": [],
   "source": [
    "data_files_eeg"
   ]
  },
  {
   "cell_type": "code",
   "execution_count": null,
   "metadata": {},
   "outputs": [],
   "source": [
    "data_files_event"
   ]
  },
  {
   "cell_type": "code",
   "execution_count": null,
   "metadata": {},
   "outputs": [],
   "source": [
    "data_eeg = [pd.read_csv('data/'+i) for i in data_files_eeg]\n",
    "data_event = [pd.read_csv('data/'+i) for i in data_files_event]"
   ]
  },
  {
   "cell_type": "code",
   "execution_count": null,
   "metadata": {},
   "outputs": [],
   "source": [
    "eeg10 = data_eeg[0]\n",
    "eeg10"
   ]
  },
  {
   "cell_type": "code",
   "execution_count": null,
   "metadata": {},
   "outputs": [],
   "source": [
    "event10 = data_event[0]\n",
    "event10"
   ]
  },
  {
   "cell_type": "code",
   "execution_count": null,
   "metadata": {},
   "outputs": [],
   "source": [
    "timestamp10eeg = eeg10['timestamp'].to_numpy()\n",
    "timestamp10event = event10['timestamp'].to_numpy()\n",
    "\n",
    "eeg10_time = np.rint(timestamp10eeg * 1000)\n",
    "eeg10_tmin = eeg10_time[0]\n",
    "eeg10_time = eeg10_time - eeg10_tmin\n",
    "eeg10_time = eeg10_time.astype(int)\n",
    "\n",
    "event10_time = np.rint(timestamp10event * 1000)\n",
    "event10_tmin = event10_time[0]\n",
    "event10_time = event10_time - event10_tmin\n",
    "event10_time = event10_time.astype(int)"
   ]
  },
  {
   "cell_type": "code",
   "execution_count": null,
   "metadata": {},
   "outputs": [],
   "source": [
    "np.set_printoptions(threshold=sys.maxsize)\n",
    "len(eeg10_time)"
   ]
  },
  {
   "cell_type": "code",
   "execution_count": null,
   "metadata": {},
   "outputs": [],
   "source": [
    "event10_time"
   ]
  },
  {
   "cell_type": "code",
   "execution_count": null,
   "metadata": {},
   "outputs": [],
   "source": [
    "81736*4 - eeg10_time[-1]"
   ]
  },
  {
   "cell_type": "code",
   "execution_count": null,
   "metadata": {},
   "outputs": [],
   "source": [
    "eeg10['time'] = eeg10_time\n",
    "event10['time'] = event10_time"
   ]
  },
  {
   "cell_type": "code",
   "execution_count": null,
   "metadata": {},
   "outputs": [],
   "source": [
    "eeg10['timestamp'] = eeg10['time']\n",
    "eeg10 = eeg10.drop('time', axis = 1)\n",
    "eeg10 = eeg10.rename(columns={'timestamp' : 'time'})\n",
    "#eeg10 = eeg10.set_index('time')"
   ]
  },
  {
   "cell_type": "code",
   "execution_count": null,
   "metadata": {},
   "outputs": [],
   "source": [
    "eeg10"
   ]
  },
  {
   "cell_type": "code",
   "execution_count": null,
   "metadata": {},
   "outputs": [],
   "source": [
    "event10['timestamp'] = event10['time']\n",
    "event10 = event10.drop('time', axis = 1)\n",
    "event10 = event10.rename(columns={'timestamp' : 'time'})\n",
    "#event10 = event10.set_index('time')\n",
    "event10"
   ]
  },
  {
   "cell_type": "code",
   "execution_count": null,
   "metadata": {},
   "outputs": [],
   "source": [
    "time_ = eeg10.loc[eeg10['time'] <= 4293].iloc[-1]['time']\n",
    "eeg10.loc[eeg10['time'] == time_]"
   ]
  },
  {
   "cell_type": "code",
   "execution_count": null,
   "metadata": {},
   "outputs": [],
   "source": [
    "eeg10.loc[eeg10['time'] <= 4293].index.values[-1]"
   ]
  },
  {
   "cell_type": "code",
   "execution_count": null,
   "metadata": {},
   "outputs": [],
   "source": [
    "1074 * 4"
   ]
  },
  {
   "cell_type": "code",
   "execution_count": null,
   "metadata": {},
   "outputs": [],
   "source": [
    "for time in event10['time']:\n",
    "    index = eeg10.loc[eeg10['time'] <= time].index.values[-1]\n",
    "    adjusted_time = index*4\n",
    "    event10.loc[event10['time'] == time,'time'] = adjusted_time\n",
    "    #eeg10.iloc[index]['time'] = adjusted_time"
   ]
  },
  {
   "cell_type": "code",
   "execution_count": null,
   "metadata": {},
   "outputs": [],
   "source": [
    "eeg10['time']"
   ]
  },
  {
   "cell_type": "code",
   "execution_count": null,
   "metadata": {},
   "outputs": [],
   "source": [
    "adjusted_time = index*4\n",
    "adjusted_time"
   ]
  },
  {
   "cell_type": "code",
   "execution_count": null,
   "metadata": {},
   "outputs": [],
   "source": [
    "event10.loc[event10['time'] == 4293,'time'] = adjusted_time"
   ]
  },
  {
   "cell_type": "code",
   "execution_count": null,
   "metadata": {},
   "outputs": [],
   "source": [
    "event10"
   ]
  },
  {
   "cell_type": "code",
   "execution_count": null,
   "metadata": {},
   "outputs": [],
   "source": [
    "eeg10['time'] = list(range(0,len(eeg10)*4,4))"
   ]
  },
  {
   "cell_type": "code",
   "execution_count": null,
   "metadata": {},
   "outputs": [],
   "source": [
    "eeg10"
   ]
  },
  {
   "cell_type": "code",
   "execution_count": null,
   "metadata": {},
   "outputs": [],
   "source": [
    "eeg10 = eeg10.rename(columns={'4' : 'C4'})\n",
    "eeg10 = eeg10.rename(columns={'5' : 'C2'})\n",
    "eeg10 = eeg10.rename(columns={'6' : 'C1'})\n",
    "eeg10 = eeg10.rename(columns={'7' : 'C3'})\n",
    "eeg10"
   ]
  },
  {
   "cell_type": "code",
   "execution_count": null,
   "metadata": {},
   "outputs": [],
   "source": [
    "event10"
   ]
  },
  {
   "cell_type": "code",
   "execution_count": null,
   "metadata": {},
   "outputs": [],
   "source": [
    "#[1 if 'start' in i else 0 for i in event10['event']]"
   ]
  },
  {
   "cell_type": "code",
   "execution_count": null,
   "metadata": {},
   "outputs": [],
   "source": [
    "event10.loc[event10['event'].str.contains('start')]"
   ]
  },
  {
   "cell_type": "code",
   "execution_count": null,
   "metadata": {},
   "outputs": [],
   "source": [
    "event10.loc[event10['event'].str.contains('end')]"
   ]
  },
  {
   "cell_type": "code",
   "execution_count": null,
   "metadata": {},
   "outputs": [],
   "source": [
    "#delta_t = event10.loc[event10['event'].str.contains('end')]['time'] - event10.loc[event10['event'].str.contains('start')]['time']"
   ]
  },
  {
   "cell_type": "code",
   "execution_count": null,
   "metadata": {},
   "outputs": [],
   "source": [
    "#delta_t"
   ]
  },
  {
   "cell_type": "code",
   "execution_count": null,
   "metadata": {},
   "outputs": [],
   "source": [
    "time1 = event10.loc[event10['event'].str.contains('end')]['time']"
   ]
  },
  {
   "cell_type": "code",
   "execution_count": null,
   "metadata": {},
   "outputs": [],
   "source": [
    "time2 = event10.loc[event10['event'].str.contains('start')]['time']"
   ]
  },
  {
   "cell_type": "code",
   "execution_count": null,
   "metadata": {},
   "outputs": [],
   "source": [
    "time1 = np.array(time1)"
   ]
  },
  {
   "cell_type": "code",
   "execution_count": null,
   "metadata": {},
   "outputs": [],
   "source": [
    "time2 = np.array(time2)"
   ]
  },
  {
   "cell_type": "code",
   "execution_count": null,
   "metadata": {},
   "outputs": [],
   "source": [
    "np.mean(time1 - time2)"
   ]
  },
  {
   "cell_type": "code",
   "execution_count": null,
   "metadata": {},
   "outputs": [],
   "source": [
    "duration = 4300"
   ]
  },
  {
   "cell_type": "code",
   "execution_count": null,
   "metadata": {},
   "outputs": [],
   "source": [
    "event10_start = event10.loc[event10['event'].str.contains('start')]"
   ]
  },
  {
   "cell_type": "code",
   "execution_count": null,
   "metadata": {},
   "outputs": [],
   "source": [
    "event10_start['event'] = [int(i[-1]) for i in np.array(event10_start['event'])]"
   ]
  },
  {
   "cell_type": "code",
   "execution_count": null,
   "metadata": {},
   "outputs": [],
   "source": [
    "event10_start"
   ]
  },
  {
   "cell_type": "code",
   "execution_count": null,
   "metadata": {},
   "outputs": [],
   "source": [
    "event10_start_label = event10_start"
   ]
  },
  {
   "cell_type": "code",
   "execution_count": null,
   "metadata": {},
   "outputs": [],
   "source": [
    "event10_start_label = event10_start_label.drop('time', axis = 1)"
   ]
  },
  {
   "cell_type": "code",
   "execution_count": null,
   "metadata": {},
   "outputs": [],
   "source": [
    "event10_start_label.to_csv('data/Train10Labels.csv', index = False, header = None)"
   ]
  },
  {
   "cell_type": "code",
   "execution_count": null,
   "metadata": {},
   "outputs": [],
   "source": [
    "for t in event10_start['time']:\n",
    "    pass"
   ]
  },
  {
   "cell_type": "code",
   "execution_count": null,
   "metadata": {},
   "outputs": [],
   "source": [
    "eeg10['FeedBackEvent'] = [0]*len(eeg10)"
   ]
  },
  {
   "cell_type": "code",
   "execution_count": null,
   "metadata": {},
   "outputs": [],
   "source": [
    "eeg10"
   ]
  },
  {
   "cell_type": "code",
   "execution_count": null,
   "metadata": {},
   "outputs": [],
   "source": [
    "event10_start_mod = event10_start"
   ]
  },
  {
   "cell_type": "code",
   "execution_count": null,
   "metadata": {},
   "outputs": [],
   "source": [
    "event10_start_mod['time'] = event10_start_mod['time'] + 160"
   ]
  },
  {
   "cell_type": "code",
   "execution_count": null,
   "metadata": {},
   "outputs": [],
   "source": [
    "event10_start_mod['time']"
   ]
  },
  {
   "cell_type": "code",
   "execution_count": null,
   "metadata": {},
   "outputs": [],
   "source": [
    "fbe_train = [0] * len(eeg10)\n",
    "# for df in dfs_train:\n",
    "#     fbe = []\n",
    "#     for i in range(len(df)):\n",
    "#         fbe.append(0)\n",
    "#     fbe_train.append(fbe)\n",
    "sts = event10_start_mod['time']\n",
    "for st in sts:\n",
    "    fbe_train[round(st/4)] = 1\n"
   ]
  },
  {
   "cell_type": "code",
   "execution_count": null,
   "metadata": {},
   "outputs": [],
   "source": [
    "eeg10['FeedBackEvent'] = fbe_train"
   ]
  },
  {
   "cell_type": "code",
   "execution_count": null,
   "metadata": {},
   "outputs": [],
   "source": [
    "eeg10"
   ]
  },
  {
   "cell_type": "code",
   "execution_count": null,
   "metadata": {},
   "outputs": [],
   "source": [
    "eeg10.to_csv('data/Train10.csv', index = False)"
   ]
  },
  {
   "cell_type": "code",
   "execution_count": null,
   "metadata": {},
   "outputs": [],
   "source": [
    "eeg5 = data_eeg[1]\n",
    "event5 = data_event[1]\n",
    "timestamp5eeg = eeg5['timestamp'].to_numpy()\n",
    "timestamp5event = event5['timestamp'].to_numpy()\n",
    "\n",
    "eeg5_time = np.rint(timestamp5eeg * 1000)\n",
    "eeg5_tmin = eeg5_time[0]\n",
    "eeg5_time = eeg5_time - eeg5_tmin\n",
    "eeg5_time = eeg5_time.astype(int)\n",
    "\n",
    "event5_time = np.rint(timestamp5event * 1000)\n",
    "event5_tmin = event5_time[0]\n",
    "event5_time = event5_time - event5_tmin\n",
    "event5_time = event5_time.astype(int)"
   ]
  },
  {
   "cell_type": "code",
   "execution_count": null,
   "metadata": {},
   "outputs": [],
   "source": [
    "event5_time"
   ]
  },
  {
   "cell_type": "code",
   "execution_count": null,
   "metadata": {},
   "outputs": [],
   "source": [
    "eeg5['time'] = eeg5_time\n",
    "event5['time'] = event5_time\n",
    "eeg5['timestamp'] = eeg5['time']\n",
    "eeg5 = eeg5.drop('time', axis = 1)\n",
    "eeg5 = eeg5.rename(columns={'timestamp' : 'time'})"
   ]
  },
  {
   "cell_type": "code",
   "execution_count": null,
   "metadata": {},
   "outputs": [],
   "source": [
    "event5['timestamp'] = event5['time']\n",
    "event5 = event5.drop('time', axis = 1)\n",
    "event5 = event5.rename(columns={'timestamp' : 'time'})"
   ]
  },
  {
   "cell_type": "code",
   "execution_count": null,
   "metadata": {},
   "outputs": [],
   "source": [
    "for time in event5['time']:\n",
    "    index = eeg5.loc[eeg5['time'] <= time].index.values[-1]\n",
    "    adjusted_time = index*4\n",
    "    event5.loc[event5['time'] == time,'time'] = adjusted_time"
   ]
  },
  {
   "cell_type": "code",
   "execution_count": null,
   "metadata": {},
   "outputs": [],
   "source": [
    "eeg5['time'] = list(range(0,len(eeg5)*4,4))\n",
    "eeg5 = eeg5.rename(columns={'4' : 'C4'})\n",
    "eeg5 = eeg5.rename(columns={'5' : 'C2'})\n",
    "eeg5 = eeg5.rename(columns={'6' : 'C1'})\n",
    "eeg5 = eeg5.rename(columns={'7' : 'C3'})"
   ]
  },
  {
   "cell_type": "code",
   "execution_count": null,
   "metadata": {},
   "outputs": [],
   "source": [
    "time1 = event5.loc[event5['event'].str.contains('end')]['time']\n",
    "time2 = event5.loc[event5['event'].str.contains('start')]['time']\n",
    "time1 = np.array(time1)\n",
    "time2 = np.array(time2)\n",
    "np.mean(time1 - time2)"
   ]
  },
  {
   "cell_type": "code",
   "execution_count": null,
   "metadata": {},
   "outputs": [],
   "source": [
    "event5_start = event5.loc[event5['event'].str.contains('start')]\n",
    "event5_start['event'] = [int(i[-1]) for i in np.array(event5_start['event'])]\n",
    "event5_start_label = event5_start\n",
    "event5_start_label = event5_start_label.drop('time', axis = 1)\n",
    "event5_start_label.to_csv('data/True5Labels.csv', index = False, header = None)"
   ]
  },
  {
   "cell_type": "code",
   "execution_count": null,
   "metadata": {},
   "outputs": [],
   "source": [
    "event5_start_mod = event5_start\n",
    "event5_start_mod['time'] = event5_start_mod['time'] + 160\n",
    "\n",
    "fbe_train = [0] * len(eeg5)\n",
    "\n",
    "sts = event5_start_mod['time']\n",
    "for st in sts:\n",
    "    fbe_train[round(st/4)] = 1\n",
    "    \n",
    "eeg5['FeedBackEvent'] = fbe_train"
   ]
  },
  {
   "cell_type": "code",
   "execution_count": null,
   "metadata": {},
   "outputs": [],
   "source": [
    "eeg5.to_csv('data/Test5.csv', index = False)"
   ]
  },
  {
   "cell_type": "markdown",
   "metadata": {},
   "source": [
    "# ML"
   ]
  },
  {
   "cell_type": "code",
   "execution_count": 10,
   "metadata": {},
   "outputs": [],
   "source": [
    "import numpy as np                                      # for dealing with data\n",
    "from scipy.signal import butter, sosfiltfilt, sosfreqz  # for filtering\n",
    "import matplotlib.pyplot as plt                         # for plotting\n",
    "import pandas as pd\n",
    "import os\n",
    "from os import listdir\n",
    "from os.path import isfile, join, isdir\n",
    "from generate_epoch import *\n",
    "from sklearn.linear_model import LogisticRegression\n",
    "import pickle\n",
    "from sklearn.tree import DecisionTreeClassifier\n",
    "from sklearn.svm import SVC\n",
    "from sklearn.discriminant_analysis import LinearDiscriminantAnalysis as LDA\n",
    "from sklearn.model_selection import KFold\n",
    "from lightgbm import LGBMClassifier\n",
    "from xgboost import XGBClassifier\n",
    "from sklearn.gaussian_process import GaussianProcessClassifier\n",
    "from sklearn.neural_network import MLPClassifier, MLPRegressor\n",
    "from pyriemann.estimation import XdawnCovariances\n",
    "from pyriemann.tangentspace import TangentSpace\n",
    "from sklearn.ensemble import RandomForestClassifier\n",
    "from sklearn.model_selection import GridSearchCV\n",
    "from sklearn.metrics import multilabel_confusion_matrix\n",
    "from sklearn.metrics import confusion_matrix\n",
    "import seaborn as sn\n",
    "from sklearn.metrics import plot_confusion_matrix\n",
    "from neurodsp import filt"
   ]
  },
  {
   "cell_type": "code",
   "execution_count": 11,
   "metadata": {},
   "outputs": [],
   "source": [
    "train_list_arr = np.array(sorted(listdir('data/train')))\n",
    "total_training_participant = 1\n",
    "trial_per_subj = 1 # 1 x 1 = 1 csv files in total\n",
    "train_list_arr = train_list_arr[1:]\n",
    "train_list_np = np.reshape(train_list_arr, (total_training_participant,trial_per_subj))\n",
    "test_list_arr = np.array(sorted(listdir('data/test')))\n",
    "total_testing_participant = 1\n",
    "test_trial_per_subj = 1\n",
    "test_list_arr = test_list_arr[1:]\n",
    "test_list_np = np.reshape(test_list_arr, (total_testing_participant,test_trial_per_subj))"
   ]
  },
  {
   "cell_type": "code",
   "execution_count": 12,
   "metadata": {},
   "outputs": [],
   "source": [
    "stimulus_per_subj = 40\n",
    "stimulus_per_subj_test = 20\n",
    "channels = ['C4','C2','C1','C3']\n",
    "epoch_s = 0 # 160ms already truncated from the start\n",
    "epoch_e = 4000 #4 seconds; which means 140ms off from the end\n",
    "fs = 250\n",
    "epoch_len = int((abs(epoch_s) + abs(epoch_e)) * (fs / 1000))\n",
    "train_data_list = np.empty((0, stimulus_per_subj, len(channels), epoch_len), float)\n",
    "test_data_list = np.empty((0, stimulus_per_subj_test, len(channels), epoch_len), float)"
   ]
  },
  {
   "cell_type": "code",
   "execution_count": 13,
   "metadata": {},
   "outputs": [],
   "source": [
    "def butter_bandpass_filter(data,fs, lowcut, highcut, order = 2):\n",
    "    nyq = 0.5 * fs\n",
    "    low = lowcut / nyq\n",
    "    high = highcut / nyq\n",
    "    sos = butter(order, [low, high], analog = False, btype = 'band', output = 'sos')\n",
    "    filted_data = sosfiltfilt(sos, data)\n",
    "    filted_data = filt.filter_signal(filted_data, fs, 'bandstop', (58, 62), n_seconds=1)\n",
    "    filted_data = filted_data[~np.isnan(filted_data)]\n",
    "    return filted_data\n",
    "#     return data"
   ]
  },
  {
   "cell_type": "code",
   "execution_count": 14,
   "metadata": {},
   "outputs": [],
   "source": [
    "# def filterEEG(eeg_data, fs, f_range=f_range):\n",
    "#     sig_filt = filt.filter_signal(eeg_data, fs, 'bandpass', f_range, filter_type='iir', butterworth_order=2)\n",
    "#     test_sig_filt = filt.filter_signal(sig_filt, fs, 'bandstop', (58, 62), n_seconds=1)\n",
    "#     num_nans = sum(np.isnan(test_sig_filt))\n",
    "#     sig_filt = np.concatenate(([0]*(num_nans // 2), sig_filt, [0]*(num_nans // 2)))\n",
    "#     sig_filt = filt.filter_signal(sig_filt, fs, 'bandstop', (58, 62), n_seconds=1)\n",
    "#     sig_filt = sig_filt[~np.isnan(sig_filt)]\n",
    "#     return sig_filt"
   ]
  },
  {
   "cell_type": "code",
   "execution_count": 15,
   "metadata": {},
   "outputs": [
    {
     "name": "stdout",
     "output_type": "stream",
     "text": [
      "Epoched training data shape: (1, 40, 4, 1000)\n",
      "Epoched testing data shape: (1, 20, 4, 1000)\n"
     ]
    }
   ],
   "source": [
    "lowcut = 0.5\n",
    "highcut = 100\n",
    "bl_s = -400\n",
    "bl_e = -300\n",
    "for training_participant_id in range(total_training_participant):\n",
    "    subject_dir_list = train_list_np[training_participant_id]\n",
    "    subject_epoch = np.empty((0, len(channels), epoch_len), float)\n",
    "    for trial_id in range(trial_per_subj):\n",
    "        subject_dir = subject_dir_list[trial_id]\n",
    "        data = generate_epoch(file_path = 'data/train/'+subject_dir, channels = channels, \\\n",
    "                              eeg_filter = butter_bandpass_filter, fs = fs, epoch_s = epoch_s, \\\n",
    "                              epoch_e = epoch_e, bl_s = bl_s, bl_e = bl_e)\n",
    "        subject_epoch = np.vstack((subject_epoch, data))\n",
    "    subject_epoch = np.reshape(subject_epoch, (1, stimulus_per_subj, len(channels), epoch_len))\n",
    "    train_data_list = np.vstack((train_data_list, subject_epoch))\n",
    "\n",
    "print('Epoched training data shape: '+ str(train_data_list.shape))\n",
    "\n",
    "for testing_participant_id in range(total_testing_participant):\n",
    "    subject_dir_list = test_list_np[testing_participant_id]\n",
    "    subject_epoch = np.empty((0, len(channels), epoch_len), float)\n",
    "    for trial_id in range(test_trial_per_subj):\n",
    "        subject_dir = subject_dir_list[trial_id]\n",
    "        data = generate_epoch(file_path = 'data/test/'+subject_dir, channels = channels, \\\n",
    "                              eeg_filter = butter_bandpass_filter, fs = fs, epoch_s = epoch_s, \\\n",
    "                              epoch_e = epoch_e, bl_s = bl_s, bl_e = bl_e)\n",
    "        subject_epoch = np.vstack((subject_epoch, data))\n",
    "    subject_epoch = np.reshape(subject_epoch, (1, stimulus_per_subj_test, len(channels), epoch_len))\n",
    "    test_data_list = np.vstack((test_data_list, subject_epoch))\n",
    "\n",
    "print('Epoched testing data shape: '+ str(test_data_list.shape))"
   ]
  },
  {
   "cell_type": "code",
   "execution_count": 16,
   "metadata": {},
   "outputs": [
    {
     "name": "stdout",
     "output_type": "stream",
     "text": [
      "(40,)\n",
      "(20,)\n"
     ]
    }
   ],
   "source": [
    "y = pd.read_csv('data/Train10Labels.csv', header = None)\n",
    "y = y.values.reshape(40,)\n",
    "print(y.shape)\n",
    "yT = pd.read_csv('data/True5Labels.csv', header = None) # put your train label path here\n",
    "yT = yT.values.reshape(20,)\n",
    "print(yT.shape)"
   ]
  },
  {
   "cell_type": "code",
   "execution_count": 17,
   "metadata": {},
   "outputs": [
    {
     "name": "stdout",
     "output_type": "stream",
     "text": [
      "(40, 8, 8)\n",
      "(40, 36)\n"
     ]
    }
   ],
   "source": [
    "XC = XdawnCovariances(nfilter=1)\n",
    "output = XC.fit_transform(np.reshape(train_data_list, (1*40, 4, 1000)), y)\n",
    "print(output.shape)\n",
    "output = TangentSpace(metric='riemann').fit_transform(output)\n",
    "print(output.shape)"
   ]
  },
  {
   "cell_type": "code",
   "execution_count": 18,
   "metadata": {},
   "outputs": [
    {
     "data": {
      "text/plain": [
       "(20, 36)"
      ]
     },
     "execution_count": 18,
     "metadata": {},
     "output_type": "execute_result"
    }
   ],
   "source": [
    "outputT = XC.fit_transform(np.reshape(test_data_list, (1*20, 4, 1000)), yT)\n",
    "outputT = TangentSpace(metric='riemann').fit_transform(outputT)\n",
    "outputT.shape"
   ]
  },
  {
   "cell_type": "code",
   "execution_count": 19,
   "metadata": {},
   "outputs": [
    {
     "name": "stdout",
     "output_type": "stream",
     "text": [
      "(1, 40, 36) (1, 40, 36)\n"
     ]
    }
   ],
   "source": [
    "X = np.reshape(output, (1, 40, 36))\n",
    "data_train = X[:6]\n",
    "data_test = X[-3:]\n",
    "print(data_train.shape, data_test.shape)"
   ]
  },
  {
   "cell_type": "code",
   "execution_count": 20,
   "metadata": {},
   "outputs": [
    {
     "name": "stdout",
     "output_type": "stream",
     "text": [
      "(40, 36) (40,) (20, 36) (20,)\n"
     ]
    }
   ],
   "source": [
    "# data split\n",
    "y_train, y_test = np.array([]), np.array([])\n",
    "y_train = y\n",
    "\n",
    "y_test = yT\n",
    "\n",
    "X_train = output\n",
    "\n",
    "X_test = outputT\n",
    "\n",
    "print(X_train.shape, y_train.shape, X_test.shape, y_test.shape)"
   ]
  },
  {
   "cell_type": "code",
   "execution_count": 21,
   "metadata": {},
   "outputs": [
    {
     "data": {
      "text/plain": [
       "LogisticRegression(C=1.0, class_weight=None, dual=False, fit_intercept=True,\n",
       "                   intercept_scaling=1, l1_ratio=None, max_iter=100,\n",
       "                   multi_class='auto', n_jobs=None, penalty='l2',\n",
       "                   random_state=None, solver='lbfgs', tol=0.0001, verbose=0,\n",
       "                   warm_start=False)"
      ]
     },
     "execution_count": 21,
     "metadata": {},
     "output_type": "execute_result"
    }
   ],
   "source": [
    "logreg = LogisticRegression()\n",
    "logreg.fit(X_train,y_train)"
   ]
  },
  {
   "cell_type": "code",
   "execution_count": 22,
   "metadata": {},
   "outputs": [],
   "source": [
    "y_pred = logreg.predict(X_test)"
   ]
  },
  {
   "cell_type": "code",
   "execution_count": 23,
   "metadata": {},
   "outputs": [
    {
     "name": "stdout",
     "output_type": "stream",
     "text": [
      "              precision    recall  f1-score   support\n",
      "\n",
      "           1       0.57      0.80      0.67         5\n",
      "           2       1.00      1.00      1.00         5\n",
      "           3       0.67      0.40      0.50         5\n",
      "           4       1.00      1.00      1.00         5\n",
      "\n",
      "    accuracy                           0.80        20\n",
      "   macro avg       0.81      0.80      0.79        20\n",
      "weighted avg       0.81      0.80      0.79        20\n",
      "\n"
     ]
    }
   ],
   "source": [
    "from sklearn.metrics import classification_report\n",
    "print(classification_report(y_test, y_pred))"
   ]
  },
  {
   "cell_type": "code",
   "execution_count": null,
   "metadata": {},
   "outputs": [],
   "source": [
    "# Create the parameter grid based on the results of random search \n",
    "param_grid = {\n",
    "    'bootstrap': [True],\n",
    "    'max_depth': [80, 90, 100, 110],\n",
    "    'max_features': [2, 3],\n",
    "    'n_estimators': [100, 200, 300, 1000]\n",
    "}\n",
    "\n",
    "# Fit the grid search to the data\n",
    "if not isfile('random_forest_gs'): \n",
    "    rf = RandomForestClassifier()\n",
    "    # Instantiate the grid search model\n",
    "    grid_search = GridSearchCV(estimator = rf, param_grid = param_grid, \n",
    "               cv = 4, n_jobs = -1)\n",
    "    grid_search.fit(X_train, y_train)\n",
    "    pickle.dump(grid_search, open('random_forest_gs', 'wb'))"
   ]
  },
  {
   "cell_type": "code",
   "execution_count": null,
   "metadata": {},
   "outputs": [],
   "source": [
    "grid_search = pickle.load(open('random_forest_gs', 'rb'))\n",
    "print(grid_search.best_params_)"
   ]
  },
  {
   "cell_type": "code",
   "execution_count": null,
   "metadata": {},
   "outputs": [],
   "source": [
    "Y_pred_proba = grid_search.predict_proba(X_test)\n",
    "#confusion_matrix(y_test, Y_pred_proba[:,1])"
   ]
  },
  {
   "cell_type": "code",
   "execution_count": null,
   "metadata": {},
   "outputs": [],
   "source": [
    "Y_pred_proba[:,1]"
   ]
  },
  {
   "cell_type": "code",
   "execution_count": null,
   "metadata": {},
   "outputs": [],
   "source": [
    "X_test"
   ]
  },
  {
   "cell_type": "code",
   "execution_count": null,
   "metadata": {},
   "outputs": [],
   "source": []
  }
 ],
 "metadata": {
  "kernelspec": {
   "display_name": "Python 3",
   "language": "python",
   "name": "python3"
  },
  "language_info": {
   "codemirror_mode": {
    "name": "ipython",
    "version": 3
   },
   "file_extension": ".py",
   "mimetype": "text/x-python",
   "name": "python",
   "nbconvert_exporter": "python",
   "pygments_lexer": "ipython3",
   "version": "3.7.6"
  }
 },
 "nbformat": 4,
 "nbformat_minor": 4
}
