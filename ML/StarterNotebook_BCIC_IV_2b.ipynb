{
 "cells": [
  {
   "cell_type": "code",
   "execution_count": null,
   "metadata": {},
   "outputs": [],
   "source": [
    "from data_processing_helper import * "
   ]
  },
  {
   "cell_type": "code",
   "execution_count": null,
   "metadata": {},
   "outputs": [],
   "source": [
    "# Load a subject's data \n",
    "filename = \"B0203T.csv\"\n",
    "eeg_filename = \"./data/BCI_Competition/train/\" + filename\n",
    "event_filename = \"./data/BCI_Competition/y/\" + filename\n",
    "\n",
    "eeg_chans = [\"C3\", \"Cz\", \"C4\"] # 10-20 system \n",
    "eog_chans = [\"EOG:ch01\", \"EOG:ch02\", \"EOG:ch03\"] \n",
    "all_chans = eeg_chans + eog_chans\n",
    "event_types = {1:\"left\", 2:\"right\"}\n",
    "\n",
    "# Load the raw csvs into dataframes\n",
    "eeg_df = pd.read_csv(eeg_filename)\n",
    "event_df = pd.read_csv(event_filename, names=[\"EventType\"])"
   ]
  },
  {
   "cell_type": "code",
   "execution_count": null,
   "metadata": {},
   "outputs": [],
   "source": [
    "eeg_df.head(2)"
   ]
  },
  {
   "cell_type": "code",
   "execution_count": null,
   "metadata": {},
   "outputs": [],
   "source": [
    "event_df.head(2)"
   ]
  },
  {
   "cell_type": "code",
   "execution_count": null,
   "metadata": {},
   "outputs": [],
   "source": [
    "# Extract data from raw dataframes for constructing trial-by-trial dataframe\n",
    "trial_duration_ms = 4000\n",
    "epochs = []\n",
    "epoch_times = []\n",
    "labels = []\n",
    "start_df = eeg_df[eeg_df['FeedBackEvent'] == 1]\n",
    "for i, event_type in enumerate(event_df[\"EventType\"].values): \n",
    "    labels.append(event_type)\n",
    "    start_time = start_df.iloc[i][\"time\"]\n",
    "    end_time = int(start_time + trial_duration_ms)\n",
    "    epoch_times.append((start_time, end_time))\n",
    "    sub_df = eeg_df[(eeg_df['time'] > start_time) & (eeg_df['time'] <= end_time)]\n",
    "    eeg_dat = []\n",
    "    for ch in all_chans: \n",
    "        eeg_dat.append(sub_df[ch].values)\n",
    "    epochs.append(np.array(eeg_dat))\n",
    "    \n",
    "# Create dataframe from the data extracted previously\n",
    "eeg_epoch_df = getDF(epochs, labels, epoch_times, all_chans)"
   ]
  },
  {
   "cell_type": "code",
   "execution_count": null,
   "metadata": {},
   "outputs": [],
   "source": [
    "# Preview dataframe of trials\n",
    "eeg_epoch_df.head(2)"
   ]
  },
  {
   "cell_type": "code",
   "execution_count": null,
   "metadata": {},
   "outputs": [],
   "source": [
    "# Visualize EEG and PSD for one trial\n",
    "trial_num = 2\n",
    "\n",
    "plt.figure(figsize=(15,5))\n",
    "for ch in eeg_chans: \n",
    "    plt.plot(eeg_epoch_df[ch][trial_num], label=ch)\n",
    "plt.ylabel(\"Voltage (uV)\")\n",
    "plt.xlabel(\"timepoints @ 250Hz\")\n",
    "plt.title(\"EEG of one motor imagery trial\")\n",
    "plt.legend() \n",
    "plt.show()\n",
    "\n",
    "plt.figure(figsize=(15,5))\n",
    "for ch in eog_chans: \n",
    "    plt.plot(eeg_epoch_df[ch][trial_num], label=ch)\n",
    "plt.ylabel(\"Voltage (uV)\")\n",
    "plt.xlabel(\"timepoints @ 250Hz\")\n",
    "plt.title(\"EOG of one motor imagery trial\")\n",
    "plt.legend() \n",
    "plt.show()\n",
    "\n",
    "plt.figure(figsize=(15,5))\n",
    "for ch in eeg_chans: \n",
    "    plotPSD_fromEEG(eeg_epoch_df.iloc[trial_num][ch], pre_cut_off_freq=2, post_cut_off_freq=30, label=ch)\n",
    "plt.title(\"PSD of one motor imagery trial\")\n",
    "plt.legend()\n",
    "plt.show()\n"
   ]
  },
  {
   "cell_type": "code",
   "execution_count": null,
   "metadata": {},
   "outputs": [],
   "source": [
    "# Get PSD averages for each channel for each event type (1=left or 2=right)\n",
    "psd_averages_by_type = {}\n",
    "\n",
    "for event_type in range(1, 3): \n",
    "    psds_only_one_type={}\n",
    "    freqs_only_one_type={}\n",
    "    for i, row in eeg_epoch_df[eeg_epoch_df[\"event_type\"] == event_type].iterrows(): \n",
    "        for ch in eeg_chans: \n",
    "            if ch not in psds_only_one_type: \n",
    "                psds_only_one_type[ch] = list()\n",
    "                freqs_only_one_type[ch] = list()\n",
    "            f, p = getMeanFreqPSD(row[ch])\n",
    "            psds_only_one_type[ch].append(p)\n",
    "            freqs_only_one_type[ch].append(f)\n",
    "    avg_psds_one_type = {}\n",
    "    for ch in eeg_chans:\n",
    "        psds_only_one_type[ch] = np.array(psds_only_one_type[ch])\n",
    "        avg_psds_one_type[ch] = np.mean(psds_only_one_type[ch], axis=0)\n",
    "    psd_averages_by_type[event_type] = dict(avg_psds_one_type)"
   ]
  },
  {
   "cell_type": "code",
   "execution_count": null,
   "metadata": {},
   "outputs": [],
   "source": [
    "# View Average PSDs\n",
    "for event_type in range(1, 3): \n",
    "    for ch in eeg_chans[:]: \n",
    "        plotPSD(freqs_only_one_type[eeg_chans[0]][0], psd_averages_by_type[event_type][ch],pre_cut_off_freq=2, post_cut_off_freq=30, label=ch)\n",
    "\n",
    "    plt.legend()\n",
    "    plt.title(\"event type: \" + event_types[event_type])\n",
    "    plt.show()"
   ]
  },
  {
   "cell_type": "code",
   "execution_count": null,
   "metadata": {},
   "outputs": [],
   "source": []
  },
  {
   "cell_type": "code",
   "execution_count": null,
   "metadata": {},
   "outputs": [],
   "source": []
  }
 ],
 "metadata": {
  "kernelspec": {
   "display_name": "Python 3",
   "language": "python",
   "name": "python3"
  },
  "language_info": {
   "codemirror_mode": {
    "name": "ipython",
    "version": 3
   },
   "file_extension": ".py",
   "mimetype": "text/x-python",
   "name": "python",
   "nbconvert_exporter": "python",
   "pygments_lexer": "ipython3",
   "version": "3.6.8"
  }
 },
 "nbformat": 4,
 "nbformat_minor": 2
}
